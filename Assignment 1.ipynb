{
  "nbformat": 4,
  "nbformat_minor": 0,
  "metadata": {
    "colab": {
      "name": "Assignment 1.ipynb",
      "version": "0.3.2",
      "provenance": [],
      "toc_visible": true,
      "include_colab_link": true
    },
    "kernelspec": {
      "name": "python3",
      "display_name": "Python 3"
    }
  },
  "cells": [
    {
      "cell_type": "markdown",
      "metadata": {
        "id": "view-in-github",
        "colab_type": "text"
      },
      "source": [
        "<a href=\"https://colab.research.google.com/github/ashcrok/workshop/blob/master/Assignment%201.ipynb\" target=\"_parent\"><img src=\"https://colab.research.google.com/assets/colab-badge.svg\" alt=\"Open In Colab\"/></a>"
      ]
    },
    {
      "metadata": {
        "id": "WmrmPEburF3e",
        "colab_type": "text"
      },
      "cell_type": "markdown",
      "source": [
        "# General"
      ]
    },
    {
      "metadata": {
        "id": "Nw_VCL6tWT9a",
        "colab_type": "text"
      },
      "cell_type": "markdown",
      "source": [
        ""
      ]
    },
    {
      "metadata": {
        "id": "bJLc3aZ3rBSW",
        "colab_type": "text"
      },
      "cell_type": "markdown",
      "source": [
        "Don't forget to make usage of the first ** `colab` ** found [here](https://colab.research.google.com/drive/1rLPOWTXO8hy0laVVKkgaLk4aN2KTX6su). You can find all the information you need to complete this assigment.\n",
        "\n",
        "General points you will follow in this Assigment:\n",
        "\n",
        "* Basic *Python* understanding\n",
        "\n",
        "* *NumPy* operations\n",
        "\n",
        "* Working with table structures - *Pandas*\n",
        "\n",
        "* Displaying relevant plots - *Matplotlib*\n",
        "\n",
        "* Understanding of basic *data science* worflow"
      ]
    },
    {
      "metadata": {
        "id": "L2O_T84ps4CE",
        "colab_type": "text"
      },
      "cell_type": "markdown",
      "source": [
        "![alt text](https://media2.giphy.com/media/l49JHz7kJvl6MCj3G/giphy.gif?cid=3640f6095c8aacda544146586702fd70)"
      ]
    },
    {
      "metadata": {
        "id": "gK4KyT_JpaDY",
        "colab_type": "text"
      },
      "cell_type": "markdown",
      "source": [
        "# Data Analysis"
      ]
    },
    {
      "metadata": {
        "id": "esZZhpVApflZ",
        "colab_type": "text"
      },
      "cell_type": "markdown",
      "source": [
        "We will be working with a CSV file found here: https://raw.githubusercontent.com/jwardbond/avocado-data-explorations/master/avocado.csv"
      ]
    },
    {
      "metadata": {
        "id": "VDcF-t6op4i6",
        "colab_type": "text"
      },
      "cell_type": "markdown",
      "source": [
        "Some relevant columns in the dataset:\n",
        "\n",
        "* Date - The date of the observation\n",
        "* AveragePrice - the average price of a single avocado\n",
        "* type - conventional or organic\n",
        "* year - the year\n",
        "* Region - the city or region of the observation\n",
        "* Total Volume - Total number of avocados sold\n",
        "* 4046 - Total number of avocados with PLU 4046 sold\n",
        "* 4225 - Total number of avocados with PLU 4225 sold\n",
        "* 4770 - Total number of avocados with PLU 4770 sold"
      ]
    },
    {
      "metadata": {
        "id": "zX2IKn_nvU2L",
        "colab_type": "text"
      },
      "cell_type": "markdown",
      "source": [
        "![alt text](https://media2.giphy.com/media/jJA5fhjTuIOqc/giphy.gif?cid=3640f6095c8aaf542f39536f775f354a)"
      ]
    },
    {
      "metadata": {
        "id": "XT82Yw34tmZ8",
        "colab_type": "text"
      },
      "cell_type": "markdown",
      "source": [
        "## Import the data using Pandas Dataframe"
      ]
    },
    {
      "metadata": {
        "id": "YUK26WuBpdRt",
        "colab_type": "code",
        "colab": {}
      },
      "cell_type": "code",
      "source": [
        "# Tip: don't forget to import your libraries\n",
        "df = "
      ],
      "execution_count": 0,
      "outputs": []
    },
    {
      "metadata": {
        "id": "GqBWKQF5t03X",
        "colab_type": "text"
      },
      "cell_type": "markdown",
      "source": [
        "## Display basic information to have a simple understading of the data"
      ]
    },
    {
      "metadata": {
        "id": "B62uUmOxtFQw",
        "colab_type": "code",
        "colab": {}
      },
      "cell_type": "code",
      "source": [
        "# Let's visualize a few rows\n"
      ],
      "execution_count": 0,
      "outputs": []
    },
    {
      "metadata": {
        "id": "uPsfzXeVt5h_",
        "colab_type": "code",
        "colab": {}
      },
      "cell_type": "code",
      "source": [
        "# Go ahead and see what values are you dealing with"
      ],
      "execution_count": 0,
      "outputs": []
    },
    {
      "metadata": {
        "id": "YsEos7XGteEL",
        "colab_type": "code",
        "colab": {}
      },
      "cell_type": "code",
      "source": [
        "# Check what type of data are you working with (ex. strings, ints, floats)\n",
        "\n",
        "\n",
        "# Note: try to make a distinction between `categorical` and `continuous` information"
      ],
      "execution_count": 0,
      "outputs": []
    },
    {
      "metadata": {
        "id": "kXWM3GTtt_mK",
        "colab_type": "code",
        "colab": {}
      },
      "cell_type": "code",
      "source": [
        "# Is there any data missing from the DataSet?\n"
      ],
      "execution_count": 0,
      "outputs": []
    },
    {
      "metadata": {
        "id": "A5ihFTo3uyfU",
        "colab_type": "text"
      },
      "cell_type": "markdown",
      "source": [
        "# Cleaning"
      ]
    },
    {
      "metadata": {
        "id": "KYi853ZUvLsu",
        "colab_type": "text"
      },
      "cell_type": "markdown",
      "source": [
        "We want to clean the data. This step is not mandatory, but helps us do less mistakes and it makes the process more pleasing as the data is fit to each individuals preferences. I suggest following those principals:\n",
        "\n",
        "* Remove any irelevant data (but be carefull, only completly irelevant data must be discarded)\n",
        "\n",
        "* Rename the columns in a way that suit you best\n",
        "\n",
        "* Convert any values in such a way that they are more fitting to your desires\n",
        "\n",
        "* If you think of a feature / variable / column might help you if you transform it, but you aren't 100% sure, make a clone. Clone your dataframe with the desired mutation such that you can revisit it later on, or even, complete the rest of the process going in with multiple possible Data Sets\n",
        "\n",
        "* Be carefull not to make a bigger mess behind you"
      ]
    },
    {
      "metadata": {
        "id": "jbuON0E0wnXo",
        "colab_type": "text"
      },
      "cell_type": "markdown",
      "source": [
        "![alt text](https://media3.giphy.com/media/kXBVtKjLxINji/giphy.gif?cid=3640f6095c8ab0c54243646d3290e332)"
      ]
    },
    {
      "metadata": {
        "id": "wYzj77p4w-dS",
        "colab_type": "text"
      },
      "cell_type": "markdown",
      "source": [
        "## Removing irelevant data"
      ]
    },
    {
      "metadata": {
        "id": "cERKf9_TvFSe",
        "colab_type": "code",
        "colab": {}
      },
      "cell_type": "code",
      "source": [
        "# There is column that is completly irelevant\n",
        "\n",
        "# Can you spot it?\n",
        "\n",
        "# Just throw it away"
      ],
      "execution_count": 0,
      "outputs": []
    },
    {
      "metadata": {
        "id": "UsaFBWaRxI4k",
        "colab_type": "code",
        "colab": {}
      },
      "cell_type": "code",
      "source": [
        "# What else would you remove?"
      ],
      "execution_count": 0,
      "outputs": []
    },
    {
      "metadata": {
        "id": "X7uAtwdNxUnv",
        "colab_type": "code",
        "colab": {}
      },
      "cell_type": "code",
      "source": [
        "# If you want, you can get rid of missing values as well. Would you?"
      ],
      "execution_count": 0,
      "outputs": []
    },
    {
      "metadata": {
        "id": "z7aDKKnGxdyP",
        "colab_type": "text"
      },
      "cell_type": "markdown",
      "source": [
        "## Renaming"
      ]
    },
    {
      "metadata": {
        "id": "nqATR7bXxnW5",
        "colab_type": "code",
        "colab": {}
      },
      "cell_type": "code",
      "source": [
        "# Feel free to rename things as you want. Just make at least 1 change"
      ],
      "execution_count": 0,
      "outputs": []
    },
    {
      "metadata": {
        "id": "NABypjiexvhW",
        "colab_type": "text"
      },
      "cell_type": "markdown",
      "source": [
        "## Convert"
      ]
    },
    {
      "metadata": {
        "id": "G84tGlvlxx5-",
        "colab_type": "code",
        "colab": {}
      },
      "cell_type": "code",
      "source": [
        "# Make `date` to be your index for the DataFrame\n"
      ],
      "execution_count": 0,
      "outputs": []
    },
    {
      "metadata": {
        "id": "qg3uuugnyMR6",
        "colab_type": "code",
        "colab": {}
      },
      "cell_type": "code",
      "source": [
        "# Split the type into 2 columns\n",
        "\n",
        "\n",
        "# Tip: it is a small categorical data, can be used better if it would be as boolean for each category"
      ],
      "execution_count": 0,
      "outputs": []
    },
    {
      "metadata": {
        "id": "gAvsOe7RzPET",
        "colab_type": "text"
      },
      "cell_type": "markdown",
      "source": [
        "## Save additional information for later usage (Optional)"
      ]
    },
    {
      "metadata": {
        "id": "3JR2Nk5NyuQz",
        "colab_type": "code",
        "colab": {}
      },
      "cell_type": "code",
      "source": [
        "# Here are some ideas:\n",
        "# - separate the data by region\n",
        "# - separate the data by years\n"
      ],
      "execution_count": 0,
      "outputs": []
    },
    {
      "metadata": {
        "id": "G_HDGTdKzrIk",
        "colab_type": "text"
      },
      "cell_type": "markdown",
      "source": [
        "# Visualization"
      ]
    },
    {
      "metadata": {
        "id": "3JDNlk4dzwgT",
        "colab_type": "text"
      },
      "cell_type": "markdown",
      "source": [
        "Let's make usage of Matplotlib and Seaborn to display to acutally visualize better the data. Maybe we can see some patters ;)."
      ]
    },
    {
      "metadata": {
        "id": "zegqjL5F1JVs",
        "colab_type": "text"
      },
      "cell_type": "markdown",
      "source": [
        "![alt text](https://media1.giphy.com/media/xT0xeJpnrWC4XWblEk/giphy.gif?cid=3640f6095c8ab57b4a7a71446b85f96e)"
      ]
    },
    {
      "metadata": {
        "id": "JUBYGsdPzu_U",
        "colab_type": "code",
        "colab": {}
      },
      "cell_type": "code",
      "source": [
        "# Plot the average price\n"
      ],
      "execution_count": 0,
      "outputs": []
    },
    {
      "metadata": {
        "id": "wfxUauCW15K0",
        "colab_type": "code",
        "colab": {}
      },
      "cell_type": "code",
      "source": [
        "# Showcase histogram of how many entries are for each type (conventional vs organic)\n"
      ],
      "execution_count": 0,
      "outputs": []
    },
    {
      "metadata": {
        "id": "wV2_Ucxa2JnC",
        "colab_type": "code",
        "colab": {}
      },
      "cell_type": "code",
      "source": [
        "# How many entries are for each region - build a histogram for this\n"
      ],
      "execution_count": 0,
      "outputs": []
    },
    {
      "metadata": {
        "id": "EvG4XGGf2q_I",
        "colab_type": "code",
        "colab": {}
      },
      "cell_type": "code",
      "source": [
        "# Build scatter plots between the average price and \"Small.Bags\", \"Large.Bags\", \"XLarge.Bags\"\n",
        "\n",
        "# Are there any visible correlations?"
      ],
      "execution_count": 0,
      "outputs": []
    },
    {
      "metadata": {
        "id": "m8iDt2h92_tg",
        "colab_type": "code",
        "colab": {}
      },
      "cell_type": "code",
      "source": [
        "# Build similar correlations for \"X4046\",\"X4225\",\"X4770\"\n",
        "\n",
        "# Any visible correlations?"
      ],
      "execution_count": 0,
      "outputs": []
    },
    {
      "metadata": {
        "id": "v5_d90tZ3QWp",
        "colab_type": "text"
      },
      "cell_type": "markdown",
      "source": [
        "# Challenges"
      ]
    },
    {
      "metadata": {
        "id": "Yu3s2C_M3TWw",
        "colab_type": "text"
      },
      "cell_type": "markdown",
      "source": [
        "## 1. Grouping"
      ]
    },
    {
      "metadata": {
        "id": "d_yP6rbw3Xw5",
        "colab_type": "text"
      },
      "cell_type": "markdown",
      "source": [
        "Group your data by each region. If you previously already this, move on, and make usage of the previously built groups."
      ]
    },
    {
      "metadata": {
        "id": "8Wpm-VtC3Rzw",
        "colab_type": "code",
        "colab": {}
      },
      "cell_type": "code",
      "source": [
        ""
      ],
      "execution_count": 0,
      "outputs": []
    },
    {
      "metadata": {
        "id": "M-f0Z87u3-5y",
        "colab_type": "code",
        "colab": {}
      },
      "cell_type": "code",
      "source": [
        ""
      ],
      "execution_count": 0,
      "outputs": []
    },
    {
      "metadata": {
        "id": "TQpQuwlt3_Hu",
        "colab_type": "code",
        "colab": {}
      },
      "cell_type": "code",
      "source": [
        ""
      ],
      "execution_count": 0,
      "outputs": []
    },
    {
      "metadata": {
        "id": "wSrlSZVQ4At7",
        "colab_type": "text"
      },
      "cell_type": "markdown",
      "source": [
        "## 2. Ordering"
      ]
    },
    {
      "metadata": {
        "id": "raH1nQ624Ic4",
        "colab_type": "text"
      },
      "cell_type": "markdown",
      "source": [
        "Order the date in each group by date (ascending). Look over `sort_values` method.\n",
        "\n"
      ]
    },
    {
      "metadata": {
        "id": "r5bU4EHq4bSy",
        "colab_type": "code",
        "colab": {}
      },
      "cell_type": "code",
      "source": [
        ""
      ],
      "execution_count": 0,
      "outputs": []
    },
    {
      "metadata": {
        "id": "bpFnAH2H4bZV",
        "colab_type": "code",
        "colab": {}
      },
      "cell_type": "code",
      "source": [
        ""
      ],
      "execution_count": 0,
      "outputs": []
    },
    {
      "metadata": {
        "id": "POdh3pwA4bcg",
        "colab_type": "code",
        "colab": {}
      },
      "cell_type": "code",
      "source": [
        ""
      ],
      "execution_count": 0,
      "outputs": []
    },
    {
      "metadata": {
        "id": "QXVJREt24alC",
        "colab_type": "text"
      },
      "cell_type": "markdown",
      "source": [
        "## 3. Plot average price"
      ]
    },
    {
      "metadata": {
        "id": "NoxaziB94fs6",
        "colab_type": "text"
      },
      "cell_type": "markdown",
      "source": [
        "Plot all the groups build above by average price over time. Build them in one single pyplot."
      ]
    },
    {
      "metadata": {
        "id": "J-v3OSac4rZW",
        "colab_type": "code",
        "colab": {}
      },
      "cell_type": "code",
      "source": [
        ""
      ],
      "execution_count": 0,
      "outputs": []
    },
    {
      "metadata": {
        "id": "xrFCE5Oh4rfX",
        "colab_type": "code",
        "colab": {}
      },
      "cell_type": "code",
      "source": [
        ""
      ],
      "execution_count": 0,
      "outputs": []
    },
    {
      "metadata": {
        "id": "9dfuR7Ho4riU",
        "colab_type": "code",
        "colab": {}
      },
      "cell_type": "code",
      "source": [
        ""
      ],
      "execution_count": 0,
      "outputs": []
    },
    {
      "metadata": {
        "id": "JjeYWaM25Boj",
        "colab_type": "text"
      },
      "cell_type": "markdown",
      "source": [
        "## 4. Ultimate Epic Challenge"
      ]
    },
    {
      "metadata": {
        "id": "i5jUa37F5IW8",
        "colab_type": "text"
      },
      "cell_type": "markdown",
      "source": [
        "Taking into consideration the data without the last 3 months, can you predict the Average Price of Avocados for the last 3 months in the Data Set?\n",
        "\n",
        "Note: No need for anything fancy.\n",
        "\n",
        "Note: Accepting even word-based prediction based on visual data."
      ]
    },
    {
      "metadata": {
        "id": "5wXEysQz51NM",
        "colab_type": "text"
      },
      "cell_type": "markdown",
      "source": [
        "![alt text](https://media2.giphy.com/media/XoV0OMim9iQGjnLtBv/giphy.gif?cid=3640f6095c8aba3b6c7233326f9005e0)"
      ]
    },
    {
      "metadata": {
        "id": "KGEqyD935E1B",
        "colab_type": "code",
        "colab": {}
      },
      "cell_type": "code",
      "source": [
        ""
      ],
      "execution_count": 0,
      "outputs": []
    },
    {
      "metadata": {
        "id": "Kpb4aNvy6AcM",
        "colab_type": "code",
        "colab": {}
      },
      "cell_type": "code",
      "source": [
        ""
      ],
      "execution_count": 0,
      "outputs": []
    },
    {
      "metadata": {
        "id": "HVqSF3F96Agw",
        "colab_type": "code",
        "colab": {}
      },
      "cell_type": "code",
      "source": [
        ""
      ],
      "execution_count": 0,
      "outputs": []
    },
    {
      "metadata": {
        "id": "v6dVFX7n6Az3",
        "colab_type": "code",
        "colab": {}
      },
      "cell_type": "code",
      "source": [
        ""
      ],
      "execution_count": 0,
      "outputs": []
    },
    {
      "metadata": {
        "id": "QYtJlHxZ6Aeo",
        "colab_type": "code",
        "colab": {}
      },
      "cell_type": "code",
      "source": [
        ""
      ],
      "execution_count": 0,
      "outputs": []
    },
    {
      "metadata": {
        "id": "MsIrb5rN6Nm6",
        "colab_type": "text"
      },
      "cell_type": "markdown",
      "source": [
        "Noone stops you to already go into linear regression or more sofisticated predictive models. ;)"
      ]
    },
    {
      "metadata": {
        "id": "e3tgGy_76YPF",
        "colab_type": "text"
      },
      "cell_type": "markdown",
      "source": [
        "# Double Ultimate Epic Challange"
      ]
    },
    {
      "metadata": {
        "id": "g5dEyfcE6jOV",
        "colab_type": "text"
      },
      "cell_type": "markdown",
      "source": [
        "Take the Titanic Dataset and play around some more. Can you predict who Surived?\n",
        "\n",
        "DataSet link: https://raw.githubusercontent.com/kacox/titanicml/master/titanic_data.csv\n",
        "\n",
        "Additional info about the Dataset: https://www.kaggle.com/c/titanic"
      ]
    },
    {
      "metadata": {
        "id": "an9DoMCd60y2",
        "colab_type": "text"
      },
      "cell_type": "markdown",
      "source": [
        "# Congrats"
      ]
    },
    {
      "metadata": {
        "id": "DOrwUj3A62e0",
        "colab_type": "text"
      },
      "cell_type": "markdown",
      "source": [
        "![alt text](https://media3.giphy.com/media/3oFzmiMu3v4LIXpJBK/giphy.gif?cid=3640f6095c8abb426f46755841543148)"
      ]
    }
  ]
}