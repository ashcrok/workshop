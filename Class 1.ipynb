{
  "nbformat": 4,
  "nbformat_minor": 0,
  "metadata": {
    "colab": {
      "name": "Class 1.ipynb",
      "version": "0.3.2",
      "provenance": [],
      "include_colab_link": true
    },
    "kernelspec": {
      "name": "python3",
      "display_name": "Python 3"
    }
  },
  "cells": [
    {
      "cell_type": "markdown",
      "metadata": {
        "id": "view-in-github",
        "colab_type": "text"
      },
      "source": [
        "<a href=\"https://colab.research.google.com/github/ashcrok/workshop/blob/master/Class%201.ipynb\" target=\"_parent\"><img src=\"https://colab.research.google.com/assets/colab-badge.svg\" alt=\"Open In Colab\"/></a>"
      ]
    },
    {
      "metadata": {
        "id": "erd31_L39qaL",
        "colab_type": "text"
      },
      "cell_type": "markdown",
      "source": [
        "# Hi - Python is great"
      ]
    },
    {
      "metadata": {
        "id": "PH9wWbcwX3YK",
        "colab_type": "text"
      },
      "cell_type": "markdown",
      "source": [
        "Facebook group: https://www.facebook.com/groups/2364915473736676/7"
      ]
    },
    {
      "metadata": {
        "id": "d0VyX_ybWaNQ",
        "colab_type": "text"
      },
      "cell_type": "markdown",
      "source": [
        "This presentation: https://bit.ly/2u5JvIl\n",
        "\n",
        "Assigment: https://bit.ly/2Cl7PKx"
      ]
    },
    {
      "metadata": {
        "id": "h5OBKCX8-cb-",
        "colab_type": "text"
      },
      "cell_type": "markdown",
      "source": [
        "![alt text](https://media3.giphy.com/media/IThjAlJnD9WNO/giphy.webp?cid=3640f6095c8b420b6463545532ed3657)"
      ]
    },
    {
      "metadata": {
        "id": "EscUmT0U-qff",
        "colab_type": "text"
      },
      "cell_type": "markdown",
      "source": [
        "Python is great. I mean look at this:\n",
        "\n",
        "\n",
        "\n",
        "```\n",
        "print(“I’am awesome”)\n",
        "```\n",
        "\n",
        "and then, this how things are done in Java:\n",
        "\n",
        "\n",
        "\n",
        "```\n",
        "public class HelloWorld {\n",
        "\n",
        "    public static void main(String[] args) {\n",
        "        \n",
        "        System.out.println(\"I'am awesome\");\n",
        "    }\n",
        "\n",
        "}\n",
        "```\n",
        "\n",
        "Ugly, hard to understand for a newcomer. Long function lines. Simlpy put, not gonna work for a beginner, who wants to experiment with code.\n",
        "\n",
        "\n"
      ]
    },
    {
      "metadata": {
        "id": "tUufeFRZOOlS",
        "colab_type": "text"
      },
      "cell_type": "markdown",
      "source": [
        "![alt text](https://i.redd.it/ry69u7oa1rsy.png)"
      ]
    },
    {
      "metadata": {
        "id": "VMYJTn01CgQE",
        "colab_type": "text"
      },
      "cell_type": "markdown",
      "source": [
        "\n",
        "\n",
        "---\n",
        "\n"
      ]
    },
    {
      "metadata": {
        "id": "NdnV8N95B70G",
        "colab_type": "text"
      },
      "cell_type": "markdown",
      "source": [
        "Python can do... anything... literally:\n",
        "\n",
        "* Web\n",
        "\n",
        "* Desktop GUI App\n",
        "\n",
        "* Multi-threading\n",
        "\n",
        "* System operations\n",
        "\n",
        "* Bla bla bla\n",
        "\n",
        "* ...\n",
        "\n",
        "Literally anything another programming language can do, but a little slower.\n",
        "\n",
        "Well, not quite. Even if python is a few times slower than other flagship programming languages (like Java or C++), most of the libraries are directly written in the fastest languagues out there (most of them in C/C++) and have an interface for python. This makes things actually be as fast as in C/C++, as long as you dont reinvent the wheel and make usage of the resources that are out there for you."
      ]
    },
    {
      "metadata": {
        "id": "EwhJ_WmbDlUe",
        "colab_type": "text"
      },
      "cell_type": "markdown",
      "source": [
        "\n",
        "\n",
        "---\n",
        "\n"
      ]
    },
    {
      "metadata": {
        "id": "TukIheoHDoGa",
        "colab_type": "text"
      },
      "cell_type": "markdown",
      "source": [
        "And then, it's MAAAACHINE LEARNING... ING... ing (echoes all around).\n",
        "\n",
        "Python has the most support for the fields of Data Science and Machine Learning. Yes, there are some alternatives out there like R and MatLab; even Java is an option, but at the end of the day any programming language is possible to be used for these tasks if you REALLY want it.\n",
        "\n",
        "But, as I said before, Data Scients and Machine Learning experts have loved Python for some time and they have built a lot of great tools that work right out of the box:\n",
        "\n",
        "* NumPy - scientific library for python (Num = numbers + Py = Python); great for array operatations, creating distributions and much more\n",
        "\n",
        "* Pandas - sql in python; manages DataFrames which are table-like data storage, and Pandas can manage fast queries on the data, merging, sorting and many other operations\n",
        "\n",
        "* Matplotlib - anything that can be plotted, it can be plotted; think about anything you can do to plot data in excel -> much more\n",
        "\n",
        "* Seaborn - build on top of Matplotlib: makes it beautiful (styles and others) + many more functions and types of plots\n",
        "\n",
        "* Scikit-learn - it's a simple and efficient tool for data mining and data analysis; works perfectly with numpy, pandas, even with matplotlib; can do regression, classification, clustering, dimensionality reduction, model selection, pre-processing and much more; it implements most of the well-known predictive models & supports building neural networks\n",
        "\n",
        "And they are all open-source.\n",
        "\n"
      ]
    },
    {
      "metadata": {
        "id": "OMd3orJjH710",
        "colab_type": "text"
      },
      "cell_type": "markdown",
      "source": [
        "Tools for neural networks and deep learning:\n",
        "\n",
        "* Tensorflow\n",
        "\n",
        "* Keras (build-on tensorflow)\n",
        "\n",
        "* Torch\n",
        "\n",
        "* Caffe\n",
        "\n",
        "* and many others"
      ]
    },
    {
      "metadata": {
        "id": "ktHPFDPkH5JB",
        "colab_type": "text"
      },
      "cell_type": "markdown",
      "source": [
        "\n",
        "\n",
        "---\n",
        "\n"
      ]
    },
    {
      "metadata": {
        "id": "Y4WQO1O7Kn92",
        "colab_type": "text"
      },
      "cell_type": "markdown",
      "source": [
        "Also, there are a lot of cool tools to write code in. Here are some cool IDEs:\n",
        "\n",
        "* Spider\n",
        "\n",
        "* PyCharm\n",
        "\n",
        "* Jupyter Notebooks (ipynb)\n",
        "\n",
        "* Jupyter Lab (ipynb)\n",
        "\n",
        "* Google Colab (ipynb - we are here)"
      ]
    },
    {
      "metadata": {
        "id": "VCsHzZqEMlkJ",
        "colab_type": "text"
      },
      "cell_type": "markdown",
      "source": [
        "\n",
        "\n",
        "---\n",
        "\n"
      ]
    },
    {
      "metadata": {
        "id": "_-p9MBCAMmWX",
        "colab_type": "text"
      },
      "cell_type": "markdown",
      "source": [
        "Some resources to look over:\n",
        "\n",
        "Educational Python in PyCharm - https://www.jetbrains.com/education/?fromMenu#lang=python&role=learner\n",
        "\n",
        "Python Programming Fundamentals - https://pythonprogramming.net/python-fundamental-tutorials/\n",
        "\n",
        "NumPy tutorial - http://cs231n.github.io/python-numpy-tutorial/\n",
        "\n",
        "Pandas tutorial - https://pandas.pydata.org/pandas-docs/stable/getting_started/tutorials.html\n",
        "\n",
        "But written tutorials are usually boring, so here are some youtube teaching channels for Data Science & Machine Learning in Python:\n",
        "\n",
        "Siraj Raval: https://www.youtube.com/channel/UCWN3xxRkmTPmbKwht9FuE5A\n",
        "\n",
        "sentdex: https://www.youtube.com/channel/UCfzlCWGWYyIQ0aLC5w48gBQ\n",
        "\n",
        "3blue1brown - advanced math and linear algebra: https://www.youtube.com/channel/UCYO_jab_esuFRV4b17AJtAw"
      ]
    },
    {
      "metadata": {
        "id": "0mrA66W2OKw_",
        "colab_type": "text"
      },
      "cell_type": "markdown",
      "source": [
        "\n",
        "\n",
        "---\n",
        "\n"
      ]
    },
    {
      "metadata": {
        "id": "JmB0z_bNLzoq",
        "colab_type": "text"
      },
      "cell_type": "markdown",
      "source": [
        "Ok that's enough, let's get into things."
      ]
    },
    {
      "metadata": {
        "id": "tt1I53FFFy-y",
        "colab_type": "text"
      },
      "cell_type": "markdown",
      "source": [
        "# Basics of NumPy"
      ]
    },
    {
      "metadata": {
        "id": "TSbbwJygs3Gp",
        "colab_type": "text"
      },
      "cell_type": "markdown",
      "source": [
        "![alt text](https://media3.giphy.com/media/3owzW79Y5BSGp7fBgQ/giphy.gif?cid=3640f6095c8a6ab036733438590a575c)"
      ]
    },
    {
      "metadata": {
        "id": "71dlNO6Dv1Xe",
        "colab_type": "text"
      },
      "cell_type": "markdown",
      "source": [
        "NumPy is the fundamental package for scientific computing with Python. It contains among other things:\n",
        "\n",
        "* a powerful N-dimensional array object\n",
        "* sophisticated (broadcasting) functions\n",
        "* tools for integrating C/C++ and Fortran code\n",
        "* useful linear algebra, Fourier transform, and random number capabilities\n",
        "\n",
        "\n"
      ]
    },
    {
      "metadata": {
        "id": "cW0q40JMvqMp",
        "colab_type": "text"
      },
      "cell_type": "markdown",
      "source": [
        "In case it is not installed: \n",
        "\n",
        "\n",
        "\n",
        "```\n",
        "pip install numpy\n",
        "```\n",
        "\n"
      ]
    },
    {
      "metadata": {
        "id": "9zD87xOViMyD",
        "colab_type": "text"
      },
      "cell_type": "markdown",
      "source": [
        "## Array Attributes"
      ]
    },
    {
      "metadata": {
        "id": "QqFEkYLOhh0C",
        "colab_type": "code",
        "colab": {}
      },
      "cell_type": "code",
      "source": [
        "import numpy as np"
      ],
      "execution_count": 0,
      "outputs": []
    },
    {
      "metadata": {
        "id": "WFHpuCEuiJ6s",
        "colab_type": "code",
        "colab": {}
      },
      "cell_type": "code",
      "source": [
        "# Seed the generator for reproducibility\n",
        "np.random.seed(0)"
      ],
      "execution_count": 0,
      "outputs": []
    },
    {
      "metadata": {
        "id": "TKC4MvcjhkWu",
        "colab_type": "code",
        "colab": {}
      },
      "cell_type": "code",
      "source": [
        "x1 = np.random.randint(10)  # One-dimensional array\n",
        "x2 = np.random.randint(3, size=(3, 4))  # Two-dimensional array\n",
        "x3 = np.random.randint(10, size=(3, 4, 5))  # Three-dimensional array"
      ],
      "execution_count": 0,
      "outputs": []
    },
    {
      "metadata": {
        "id": "a2xFqkHXiDio",
        "colab_type": "code",
        "outputId": "24302da0-f839-4988-f483-b3cd913d64d3",
        "colab": {
          "base_uri": "https://localhost:8080/",
          "height": 381
        }
      },
      "cell_type": "code",
      "source": [
        "print('x1 =', x1, '\\n')\n",
        "print('x2 =', x2, '\\n')\n",
        "print('x3 =', x3, '\\n')"
      ],
      "execution_count": 0,
      "outputs": [
        {
          "output_type": "stream",
          "text": [
            "x1 = 4 \n",
            "\n",
            "x2 = [[2 2 0 2]\n",
            " [0 0 2 0]\n",
            " [2 2 2 0]] \n",
            "\n",
            "x3 = [[[8 8 2 3 2]\n",
            "  [0 8 8 3 8]\n",
            "  [2 8 4 3 0]\n",
            "  [4 3 6 9 8]]\n",
            "\n",
            " [[0 8 5 9 0]\n",
            "  [9 6 5 3 1]\n",
            "  [8 0 4 9 6]\n",
            "  [5 7 8 8 9]]\n",
            "\n",
            " [[2 8 6 6 9]\n",
            "  [1 6 8 8 3]\n",
            "  [2 3 6 3 6]\n",
            "  [5 7 0 8 4]]] \n",
            "\n"
          ],
          "name": "stdout"
        }
      ]
    },
    {
      "metadata": {
        "id": "_JtpUpe5iE9f",
        "colab_type": "code",
        "outputId": "8f8c346e-ee41-4cd6-d2a0-65115f0e750c",
        "colab": {
          "base_uri": "https://localhost:8080/",
          "height": 69
        }
      },
      "cell_type": "code",
      "source": [
        "print(\"x3 ndim: \", x3.ndim)\n",
        "print(\"x3 shape:\", x3.shape)\n",
        "print(\"x3 size: \", x3.size)"
      ],
      "execution_count": 0,
      "outputs": [
        {
          "output_type": "stream",
          "text": [
            "x3 ndim:  3\n",
            "x3 shape: (3, 4, 5)\n",
            "x3 size:  60\n"
          ],
          "name": "stdout"
        }
      ]
    },
    {
      "metadata": {
        "id": "LQr1xvlyp8Sw",
        "colab_type": "code",
        "outputId": "b3aaf134-8bda-4f8e-b0ba-5b372c022e9c",
        "colab": {
          "base_uri": "https://localhost:8080/",
          "height": 69
        }
      },
      "cell_type": "code",
      "source": [
        "print(\"x1 dtype:\", type(x1))\n",
        "print(\"x2 dtype:\", x2.dtype)\n",
        "print(\"x3 dtype:\", x3.dtype)"
      ],
      "execution_count": 0,
      "outputs": [
        {
          "output_type": "stream",
          "text": [
            "x1 dtype: <class 'int'>\n",
            "x2 dtype: int64\n",
            "x3 dtype: int64\n"
          ],
          "name": "stdout"
        }
      ]
    },
    {
      "metadata": {
        "id": "AHcc3xNiowaY",
        "colab_type": "text"
      },
      "cell_type": "markdown",
      "source": [
        "## Array Indexing & Array Slicing"
      ]
    },
    {
      "metadata": {
        "id": "C4osSGmKrp7b",
        "colab_type": "text"
      },
      "cell_type": "markdown",
      "source": [
        "### Single indexing"
      ]
    },
    {
      "metadata": {
        "id": "9tQOwjvmqQoj",
        "colab_type": "code",
        "outputId": "9d248e95-b842-482b-9bed-148b247b9fcc",
        "colab": {
          "base_uri": "https://localhost:8080/",
          "height": 69
        }
      },
      "cell_type": "code",
      "source": [
        "x2"
      ],
      "execution_count": 0,
      "outputs": [
        {
          "output_type": "execute_result",
          "data": {
            "text/plain": [
              "array([[2, 2, 0, 2],\n",
              "       [0, 0, 2, 0],\n",
              "       [2, 2, 2, 0]])"
            ]
          },
          "metadata": {
            "tags": []
          },
          "execution_count": 13
        }
      ]
    },
    {
      "metadata": {
        "id": "F_8HcPw1qx9U",
        "colab_type": "code",
        "outputId": "fd81b8e2-2c8c-43e6-f36f-a26680142a90",
        "colab": {
          "base_uri": "https://localhost:8080/",
          "height": 34
        }
      },
      "cell_type": "code",
      "source": [
        "x2[0]"
      ],
      "execution_count": 0,
      "outputs": [
        {
          "output_type": "execute_result",
          "data": {
            "text/plain": [
              "array([2, 2, 0, 2])"
            ]
          },
          "metadata": {
            "tags": []
          },
          "execution_count": 14
        }
      ]
    },
    {
      "metadata": {
        "id": "uF0M6pKaq0pC",
        "colab_type": "code",
        "outputId": "b169b10e-3fb7-42e0-9adf-aaa980fa2f54",
        "colab": {
          "base_uri": "https://localhost:8080/",
          "height": 34
        }
      },
      "cell_type": "code",
      "source": [
        "x2[-1]"
      ],
      "execution_count": 0,
      "outputs": [
        {
          "output_type": "execute_result",
          "data": {
            "text/plain": [
              "array([2, 2, 2, 0])"
            ]
          },
          "metadata": {
            "tags": []
          },
          "execution_count": 15
        }
      ]
    },
    {
      "metadata": {
        "id": "TzGwEm05r4SR",
        "colab_type": "code",
        "colab": {}
      },
      "cell_type": "code",
      "source": [
        "x2"
      ],
      "execution_count": 0,
      "outputs": []
    },
    {
      "metadata": {
        "id": "qJKbbc7Wr5Ov",
        "colab_type": "code",
        "outputId": "a52660d2-b001-48fe-d261-ad19f660ef15",
        "colab": {
          "base_uri": "https://localhost:8080/",
          "height": 34
        }
      },
      "cell_type": "code",
      "source": [
        "x2[0, 0]"
      ],
      "execution_count": 0,
      "outputs": [
        {
          "output_type": "execute_result",
          "data": {
            "text/plain": [
              "2"
            ]
          },
          "metadata": {
            "tags": []
          },
          "execution_count": 18
        }
      ]
    },
    {
      "metadata": {
        "id": "keyIRF8ysApm",
        "colab_type": "code",
        "outputId": "6701f19c-4c27-4b15-bcdc-41bede3271ed",
        "colab": {
          "base_uri": "https://localhost:8080/",
          "height": 34
        }
      },
      "cell_type": "code",
      "source": [
        "x3[0, 0, -1]"
      ],
      "execution_count": 0,
      "outputs": [
        {
          "output_type": "execute_result",
          "data": {
            "text/plain": [
              "2"
            ]
          },
          "metadata": {
            "tags": []
          },
          "execution_count": 19
        }
      ]
    },
    {
      "metadata": {
        "id": "St5oltZaruQ_",
        "colab_type": "text"
      },
      "cell_type": "markdown",
      "source": [
        "### Slicing / Sub-arrays"
      ]
    },
    {
      "metadata": {
        "id": "F-UPGq5_cdpo",
        "colab_type": "code",
        "outputId": "6d839ef4-7025-4f93-db6b-fafbd9b57e2e",
        "colab": {
          "base_uri": "https://localhost:8080/",
          "height": 69
        }
      },
      "cell_type": "code",
      "source": [
        "x2"
      ],
      "execution_count": 0,
      "outputs": [
        {
          "output_type": "execute_result",
          "data": {
            "text/plain": [
              "array([[2, 2, 0, 2],\n",
              "       [0, 0, 2, 0],\n",
              "       [2, 2, 2, 0]])"
            ]
          },
          "metadata": {
            "tags": []
          },
          "execution_count": 20
        }
      ]
    },
    {
      "metadata": {
        "id": "eDJFnFzgrxqQ",
        "colab_type": "code",
        "outputId": "28605bd9-2dbe-49c4-cca9-09805ea160a9",
        "colab": {
          "base_uri": "https://localhost:8080/",
          "height": 51
        }
      },
      "cell_type": "code",
      "source": [
        "x2[0:2]"
      ],
      "execution_count": 0,
      "outputs": [
        {
          "output_type": "execute_result",
          "data": {
            "text/plain": [
              "array([[2, 2, 0, 2],\n",
              "       [0, 0, 2, 0]])"
            ]
          },
          "metadata": {
            "tags": []
          },
          "execution_count": 21
        }
      ]
    },
    {
      "metadata": {
        "id": "miahj1dxsRcG",
        "colab_type": "code",
        "outputId": "c80376ba-207a-4ddb-f380-48ba74e6b688",
        "colab": {
          "base_uri": "https://localhost:8080/",
          "height": 51
        }
      },
      "cell_type": "code",
      "source": [
        "x2[0:2, 0:2]"
      ],
      "execution_count": 0,
      "outputs": [
        {
          "output_type": "execute_result",
          "data": {
            "text/plain": [
              "array([[2, 2],\n",
              "       [0, 0]])"
            ]
          },
          "metadata": {
            "tags": []
          },
          "execution_count": 22
        }
      ]
    },
    {
      "metadata": {
        "id": "a01lhSOusXR5",
        "colab_type": "code",
        "outputId": "3ae0ddc4-8768-4d2c-b31b-96b3799050b8",
        "colab": {
          "base_uri": "https://localhost:8080/",
          "height": 51
        }
      },
      "cell_type": "code",
      "source": [
        "x3[0, 0:2, :2]"
      ],
      "execution_count": 0,
      "outputs": [
        {
          "output_type": "execute_result",
          "data": {
            "text/plain": [
              "array([[8, 8],\n",
              "       [0, 8]])"
            ]
          },
          "metadata": {
            "tags": []
          },
          "execution_count": 26
        }
      ]
    },
    {
      "metadata": {
        "id": "Q-QckDRmtDkL",
        "colab_type": "text"
      },
      "cell_type": "markdown",
      "source": [
        "### Accessing columns"
      ]
    },
    {
      "metadata": {
        "id": "EZmtJRkmtHJr",
        "colab_type": "code",
        "outputId": "bf4a351f-16cf-48cb-a51b-0fb5da07161e",
        "colab": {
          "base_uri": "https://localhost:8080/",
          "height": 34
        }
      },
      "cell_type": "code",
      "source": [
        "x3[0, 0, :]"
      ],
      "execution_count": 0,
      "outputs": [
        {
          "output_type": "execute_result",
          "data": {
            "text/plain": [
              "array([8, 8, 2, 3, 2])"
            ]
          },
          "metadata": {
            "tags": []
          },
          "execution_count": 24
        }
      ]
    },
    {
      "metadata": {
        "id": "_b1UlA0rtR81",
        "colab_type": "code",
        "outputId": "90b5e8a0-3be2-48c8-e31f-ac6e1ec8259d",
        "colab": {
          "base_uri": "https://localhost:8080/",
          "height": 34
        }
      },
      "cell_type": "code",
      "source": [
        "x3[0, 0, ]"
      ],
      "execution_count": 0,
      "outputs": [
        {
          "output_type": "execute_result",
          "data": {
            "text/plain": [
              "array([8, 8, 2, 3, 2])"
            ]
          },
          "metadata": {
            "tags": []
          },
          "execution_count": 25
        }
      ]
    },
    {
      "metadata": {
        "id": "LuDjjI6qtcI1",
        "colab_type": "text"
      },
      "cell_type": "markdown",
      "source": [
        "### No-copy vs copied views"
      ]
    },
    {
      "metadata": {
        "id": "tlW67WRZc_Iz",
        "colab_type": "code",
        "outputId": "17cfd5b8-b493-4e18-fe20-294e5bb5016b",
        "colab": {
          "base_uri": "https://localhost:8080/",
          "height": 69
        }
      },
      "cell_type": "code",
      "source": [
        "x2"
      ],
      "execution_count": 0,
      "outputs": [
        {
          "output_type": "execute_result",
          "data": {
            "text/plain": [
              "array([[2, 2, 0, 2],\n",
              "       [0, 0, 2, 0],\n",
              "       [2, 2, 2, 0]])"
            ]
          },
          "metadata": {
            "tags": []
          },
          "execution_count": 29
        }
      ]
    },
    {
      "metadata": {
        "id": "bQSc_Vx2uAZv",
        "colab_type": "code",
        "outputId": "9799e563-10af-4631-8298-fcb5ea5354b8",
        "colab": {
          "base_uri": "https://localhost:8080/",
          "height": 69
        }
      },
      "cell_type": "code",
      "source": [
        "print(x2)"
      ],
      "execution_count": 0,
      "outputs": [
        {
          "output_type": "stream",
          "text": [
            "[[2 2 0 2]\n",
            " [0 0 2 0]\n",
            " [2 2 2 0]]\n"
          ],
          "name": "stdout"
        }
      ]
    },
    {
      "metadata": {
        "id": "r89132kiuC8r",
        "colab_type": "code",
        "colab": {}
      },
      "cell_type": "code",
      "source": [
        "x2_sub = x2[0:2]"
      ],
      "execution_count": 0,
      "outputs": []
    },
    {
      "metadata": {
        "id": "3mWa8fciuJ4N",
        "colab_type": "code",
        "outputId": "db5888a5-ea91-47ff-e607-d4cf8ade8474",
        "colab": {
          "base_uri": "https://localhost:8080/",
          "height": 51
        }
      },
      "cell_type": "code",
      "source": [
        "print(x2_sub)"
      ],
      "execution_count": 0,
      "outputs": [
        {
          "output_type": "stream",
          "text": [
            "[[2 2 0 2]\n",
            " [0 0 2 0]]\n"
          ],
          "name": "stdout"
        }
      ]
    },
    {
      "metadata": {
        "id": "ySqpxmueuK64",
        "colab_type": "code",
        "colab": {}
      },
      "cell_type": "code",
      "source": [
        "x2_sub[0][0] = -1"
      ],
      "execution_count": 0,
      "outputs": []
    },
    {
      "metadata": {
        "id": "dwdigDuVuK9M",
        "colab_type": "code",
        "outputId": "826f4e51-b2c5-4516-94d5-7d04213e342f",
        "colab": {
          "base_uri": "https://localhost:8080/",
          "height": 51
        }
      },
      "cell_type": "code",
      "source": [
        "print(x2_sub)"
      ],
      "execution_count": 0,
      "outputs": [
        {
          "output_type": "stream",
          "text": [
            "[[-1  2  0  2]\n",
            " [ 0  0  2  0]]\n"
          ],
          "name": "stdout"
        }
      ]
    },
    {
      "metadata": {
        "id": "TPkUPLqTuU1z",
        "colab_type": "code",
        "outputId": "c00d69df-20f0-46be-decf-86ff4515d1ca",
        "colab": {
          "base_uri": "https://localhost:8080/",
          "height": 69
        }
      },
      "cell_type": "code",
      "source": [
        "print(x2)"
      ],
      "execution_count": 0,
      "outputs": [
        {
          "output_type": "stream",
          "text": [
            "[[-1  2  0  2]\n",
            " [ 0  0  2  0]\n",
            " [ 2  2  2  0]]\n"
          ],
          "name": "stdout"
        }
      ]
    },
    {
      "metadata": {
        "id": "-FRdSMheuXSq",
        "colab_type": "code",
        "colab": {}
      },
      "cell_type": "code",
      "source": [
        "x2_copy = x2[0:2].copy()"
      ],
      "execution_count": 0,
      "outputs": []
    },
    {
      "metadata": {
        "id": "yjYxxh5uuajg",
        "colab_type": "code",
        "outputId": "d57a81a9-f68b-4eb7-90d8-0e2325babe21",
        "colab": {
          "base_uri": "https://localhost:8080/",
          "height": 51
        }
      },
      "cell_type": "code",
      "source": [
        "print(x2_copy)"
      ],
      "execution_count": 0,
      "outputs": [
        {
          "output_type": "stream",
          "text": [
            "[[-1  2  0  2]\n",
            " [ 0  0  2  0]]\n"
          ],
          "name": "stdout"
        }
      ]
    },
    {
      "metadata": {
        "id": "RKOfQ4l3ucP8",
        "colab_type": "code",
        "colab": {}
      },
      "cell_type": "code",
      "source": [
        "x2_copy[0] = 1"
      ],
      "execution_count": 0,
      "outputs": []
    },
    {
      "metadata": {
        "id": "q8KPrapVuhva",
        "colab_type": "code",
        "outputId": "ae12c223-43cf-4c94-e575-3c629c56e647",
        "colab": {
          "base_uri": "https://localhost:8080/",
          "height": 51
        }
      },
      "cell_type": "code",
      "source": [
        "print(x2_copy)"
      ],
      "execution_count": 0,
      "outputs": [
        {
          "output_type": "stream",
          "text": [
            "[[1 1 1 1]\n",
            " [0 0 2 0]]\n"
          ],
          "name": "stdout"
        }
      ]
    },
    {
      "metadata": {
        "id": "GmhwRhZIujkY",
        "colab_type": "code",
        "outputId": "4792f827-10db-47fa-b5fa-28e04dc19f52",
        "colab": {
          "base_uri": "https://localhost:8080/",
          "height": 69
        }
      },
      "cell_type": "code",
      "source": [
        "print(x2)"
      ],
      "execution_count": 0,
      "outputs": [
        {
          "output_type": "stream",
          "text": [
            "[[-1  2  0  2]\n",
            " [ 0  0  2  0]\n",
            " [ 2  2  2  0]]\n"
          ],
          "name": "stdout"
        }
      ]
    },
    {
      "metadata": {
        "id": "W_pNIvdku76R",
        "colab_type": "text"
      },
      "cell_type": "markdown",
      "source": [
        "![alt text](https://media1.giphy.com/media/z9sFrQMfEME5a/giphy.gif?cid=3640f6095c8a6d65514367314d8f2434)"
      ]
    },
    {
      "metadata": {
        "id": "qJiek1x4FzRZ",
        "colab_type": "text"
      },
      "cell_type": "markdown",
      "source": [
        "# Pandas"
      ]
    },
    {
      "metadata": {
        "id": "fg00Ymwive1_",
        "colab_type": "text"
      },
      "cell_type": "markdown",
      "source": [
        "![alt text](https://media3.giphy.com/media/hliJQjpNnW8ne/giphy.gif?cid=3640f6095c8a6dc54171676d2e46191a)"
      ]
    },
    {
      "metadata": {
        "id": "odP2rii7w-zp",
        "colab_type": "text"
      },
      "cell_type": "markdown",
      "source": [
        "Python has long been great for data munging and preparation, but less so for data analysis and modeling. pandas helps fill this gap, enabling you to carry out your entire data analysis workflow in Python without having to switch to a more domain specific language like R."
      ]
    },
    {
      "metadata": {
        "id": "hpXiOQFPxZ3j",
        "colab_type": "text"
      },
      "cell_type": "markdown",
      "source": [
        "* A fast and efficient DataFrame object for data manipulation with integrated indexing;\n",
        "\n",
        "* Tools for reading and writing data between in-memory data structures and different formats: CSV and text files, Microsoft Excel, SQL databases, and the fast HDF5 format;\n",
        "\n",
        "* Intelligent data alignment and integrated handling of missing data: gain automatic label-based alignment in computations and easily manipulate messy data into an orderly form;\n",
        "\n",
        "* Flexible reshaping and pivoting of data sets;\n",
        "\n",
        "* Intelligent label-based slicing, fancy indexing, and subsetting of large data sets;\n",
        "\n",
        "* Columns can be inserted and deleted from data structures for size mutability;\n",
        "\n",
        "* Aggregating or transforming data with a powerful group by engine allowing split-apply-combine operations on data sets;\n",
        "\n",
        "* High performance merging and joining of data sets;\n",
        "\n",
        "* Hierarchical axis indexing provides an intuitive way of working with high-dimensional data in a lower-dimensional data structure;\n",
        "\n",
        "* Time series-functionality: date range generation and frequency conversion, moving window statistics, moving window linear regressions, date shifting and lagging. Even create domain-specific time offsets and join time series without losing data;\n",
        "\n",
        "* Highly optimized for performance, with critical code paths written in Cython or C.\n",
        "\n",
        "* Python with pandas is in use in a wide variety of academic and commercial domains, including Finance, Neuroscience, Economics, Statistics, Advertising, Web Analytics, and more."
      ]
    },
    {
      "metadata": {
        "id": "aWGN7YaxxJ1k",
        "colab_type": "text"
      },
      "cell_type": "markdown",
      "source": [
        "In case it is not installed:\n",
        "\n",
        "\n",
        "\n",
        "```\n",
        "pip install pandas\n",
        "```\n",
        "\n"
      ]
    },
    {
      "metadata": {
        "id": "4AzlndTXo2eS",
        "colab_type": "text"
      },
      "cell_type": "markdown",
      "source": [
        "## Basic Operations"
      ]
    },
    {
      "metadata": {
        "id": "skmrdNkhxSdq",
        "colab_type": "code",
        "colab": {}
      },
      "cell_type": "code",
      "source": [
        "import pandas as pd"
      ],
      "execution_count": 0,
      "outputs": []
    },
    {
      "metadata": {
        "id": "HvS0QoFPxUnl",
        "colab_type": "code",
        "colab": {}
      },
      "cell_type": "code",
      "source": [
        "df = pd.read_csv('https://raw.githubusercontent.com/adeshpande3/Pandas-Tutorial/master/RegularSeasonCompactResults.csv')"
      ],
      "execution_count": 0,
      "outputs": []
    },
    {
      "metadata": {
        "id": "IkVg1MLc10q7",
        "colab_type": "code",
        "colab": {}
      },
      "cell_type": "code",
      "source": [
        "df"
      ],
      "execution_count": 0,
      "outputs": []
    },
    {
      "metadata": {
        "id": "5p4sf6iJ1TD5",
        "colab_type": "code",
        "outputId": "2ff12a70-a883-4f85-edfe-802c47c48513",
        "colab": {
          "base_uri": "https://localhost:8080/",
          "height": 34
        }
      },
      "cell_type": "code",
      "source": [
        "type(df)"
      ],
      "execution_count": 0,
      "outputs": [
        {
          "output_type": "execute_result",
          "data": {
            "text/plain": [
              "pandas.core.frame.DataFrame"
            ]
          },
          "metadata": {
            "tags": []
          },
          "execution_count": 47
        }
      ]
    },
    {
      "metadata": {
        "id": "xLBHU3xm1UuN",
        "colab_type": "code",
        "outputId": "d5b210b5-1b1e-4ae1-ff6d-aedcbdb012f7",
        "colab": {
          "base_uri": "https://localhost:8080/",
          "height": 201
        }
      },
      "cell_type": "code",
      "source": [
        "df.head()"
      ],
      "execution_count": 0,
      "outputs": [
        {
          "output_type": "execute_result",
          "data": {
            "text/html": [
              "<div>\n",
              "<style scoped>\n",
              "    .dataframe tbody tr th:only-of-type {\n",
              "        vertical-align: middle;\n",
              "    }\n",
              "\n",
              "    .dataframe tbody tr th {\n",
              "        vertical-align: top;\n",
              "    }\n",
              "\n",
              "    .dataframe thead th {\n",
              "        text-align: right;\n",
              "    }\n",
              "</style>\n",
              "<table border=\"1\" class=\"dataframe\">\n",
              "  <thead>\n",
              "    <tr style=\"text-align: right;\">\n",
              "      <th></th>\n",
              "      <th>Season</th>\n",
              "      <th>Daynum</th>\n",
              "      <th>Wteam</th>\n",
              "      <th>Wscore</th>\n",
              "      <th>Lteam</th>\n",
              "      <th>Lscore</th>\n",
              "      <th>Wloc</th>\n",
              "      <th>Numot</th>\n",
              "    </tr>\n",
              "  </thead>\n",
              "  <tbody>\n",
              "    <tr>\n",
              "      <th>0</th>\n",
              "      <td>1985</td>\n",
              "      <td>20</td>\n",
              "      <td>1228</td>\n",
              "      <td>81</td>\n",
              "      <td>1328</td>\n",
              "      <td>64</td>\n",
              "      <td>N</td>\n",
              "      <td>0</td>\n",
              "    </tr>\n",
              "    <tr>\n",
              "      <th>1</th>\n",
              "      <td>1985</td>\n",
              "      <td>25</td>\n",
              "      <td>1106</td>\n",
              "      <td>77</td>\n",
              "      <td>1354</td>\n",
              "      <td>70</td>\n",
              "      <td>H</td>\n",
              "      <td>0</td>\n",
              "    </tr>\n",
              "    <tr>\n",
              "      <th>2</th>\n",
              "      <td>1985</td>\n",
              "      <td>25</td>\n",
              "      <td>1112</td>\n",
              "      <td>63</td>\n",
              "      <td>1223</td>\n",
              "      <td>56</td>\n",
              "      <td>H</td>\n",
              "      <td>0</td>\n",
              "    </tr>\n",
              "    <tr>\n",
              "      <th>3</th>\n",
              "      <td>1985</td>\n",
              "      <td>25</td>\n",
              "      <td>1165</td>\n",
              "      <td>70</td>\n",
              "      <td>1432</td>\n",
              "      <td>54</td>\n",
              "      <td>H</td>\n",
              "      <td>0</td>\n",
              "    </tr>\n",
              "    <tr>\n",
              "      <th>4</th>\n",
              "      <td>1985</td>\n",
              "      <td>25</td>\n",
              "      <td>1192</td>\n",
              "      <td>86</td>\n",
              "      <td>1447</td>\n",
              "      <td>74</td>\n",
              "      <td>H</td>\n",
              "      <td>0</td>\n",
              "    </tr>\n",
              "  </tbody>\n",
              "</table>\n",
              "</div>"
            ],
            "text/plain": [
              "   Season  Daynum  Wteam  Wscore  Lteam  Lscore Wloc  Numot\n",
              "0    1985      20   1228      81   1328      64    N      0\n",
              "1    1985      25   1106      77   1354      70    H      0\n",
              "2    1985      25   1112      63   1223      56    H      0\n",
              "3    1985      25   1165      70   1432      54    H      0\n",
              "4    1985      25   1192      86   1447      74    H      0"
            ]
          },
          "metadata": {
            "tags": []
          },
          "execution_count": 48
        }
      ]
    },
    {
      "metadata": {
        "id": "IKwDecA01Whw",
        "colab_type": "code",
        "outputId": "8e39b8b0-2514-4b76-ae52-83834906b612",
        "colab": {
          "base_uri": "https://localhost:8080/",
          "height": 201
        }
      },
      "cell_type": "code",
      "source": [
        "df.tail()"
      ],
      "execution_count": 0,
      "outputs": [
        {
          "output_type": "execute_result",
          "data": {
            "text/html": [
              "<div>\n",
              "<style scoped>\n",
              "    .dataframe tbody tr th:only-of-type {\n",
              "        vertical-align: middle;\n",
              "    }\n",
              "\n",
              "    .dataframe tbody tr th {\n",
              "        vertical-align: top;\n",
              "    }\n",
              "\n",
              "    .dataframe thead th {\n",
              "        text-align: right;\n",
              "    }\n",
              "</style>\n",
              "<table border=\"1\" class=\"dataframe\">\n",
              "  <thead>\n",
              "    <tr style=\"text-align: right;\">\n",
              "      <th></th>\n",
              "      <th>Season</th>\n",
              "      <th>Daynum</th>\n",
              "      <th>Wteam</th>\n",
              "      <th>Wscore</th>\n",
              "      <th>Lteam</th>\n",
              "      <th>Lscore</th>\n",
              "      <th>Wloc</th>\n",
              "      <th>Numot</th>\n",
              "    </tr>\n",
              "  </thead>\n",
              "  <tbody>\n",
              "    <tr>\n",
              "      <th>145284</th>\n",
              "      <td>2016</td>\n",
              "      <td>132</td>\n",
              "      <td>1114</td>\n",
              "      <td>70</td>\n",
              "      <td>1419</td>\n",
              "      <td>50</td>\n",
              "      <td>N</td>\n",
              "      <td>0</td>\n",
              "    </tr>\n",
              "    <tr>\n",
              "      <th>145285</th>\n",
              "      <td>2016</td>\n",
              "      <td>132</td>\n",
              "      <td>1163</td>\n",
              "      <td>72</td>\n",
              "      <td>1272</td>\n",
              "      <td>58</td>\n",
              "      <td>N</td>\n",
              "      <td>0</td>\n",
              "    </tr>\n",
              "    <tr>\n",
              "      <th>145286</th>\n",
              "      <td>2016</td>\n",
              "      <td>132</td>\n",
              "      <td>1246</td>\n",
              "      <td>82</td>\n",
              "      <td>1401</td>\n",
              "      <td>77</td>\n",
              "      <td>N</td>\n",
              "      <td>1</td>\n",
              "    </tr>\n",
              "    <tr>\n",
              "      <th>145287</th>\n",
              "      <td>2016</td>\n",
              "      <td>132</td>\n",
              "      <td>1277</td>\n",
              "      <td>66</td>\n",
              "      <td>1345</td>\n",
              "      <td>62</td>\n",
              "      <td>N</td>\n",
              "      <td>0</td>\n",
              "    </tr>\n",
              "    <tr>\n",
              "      <th>145288</th>\n",
              "      <td>2016</td>\n",
              "      <td>132</td>\n",
              "      <td>1386</td>\n",
              "      <td>87</td>\n",
              "      <td>1433</td>\n",
              "      <td>74</td>\n",
              "      <td>N</td>\n",
              "      <td>0</td>\n",
              "    </tr>\n",
              "  </tbody>\n",
              "</table>\n",
              "</div>"
            ],
            "text/plain": [
              "        Season  Daynum  Wteam  Wscore  Lteam  Lscore Wloc  Numot\n",
              "145284    2016     132   1114      70   1419      50    N      0\n",
              "145285    2016     132   1163      72   1272      58    N      0\n",
              "145286    2016     132   1246      82   1401      77    N      1\n",
              "145287    2016     132   1277      66   1345      62    N      0\n",
              "145288    2016     132   1386      87   1433      74    N      0"
            ]
          },
          "metadata": {
            "tags": []
          },
          "execution_count": 49
        }
      ]
    },
    {
      "metadata": {
        "id": "eGbMDB2m1X5p",
        "colab_type": "code",
        "outputId": "ed92f9a8-e85e-4555-cb4e-4e0e34d3096e",
        "colab": {
          "base_uri": "https://localhost:8080/",
          "height": 34
        }
      },
      "cell_type": "code",
      "source": [
        "df.shape"
      ],
      "execution_count": 0,
      "outputs": [
        {
          "output_type": "execute_result",
          "data": {
            "text/plain": [
              "(145289, 8)"
            ]
          },
          "metadata": {
            "tags": []
          },
          "execution_count": 50
        }
      ]
    },
    {
      "metadata": {
        "id": "xgprhEEj1ZZI",
        "colab_type": "code",
        "outputId": "d9aa78cc-650c-431d-b6e0-8614a5bda653",
        "colab": {
          "base_uri": "https://localhost:8080/",
          "height": 69
        }
      },
      "cell_type": "code",
      "source": [
        "df.columns"
      ],
      "execution_count": 0,
      "outputs": [
        {
          "output_type": "execute_result",
          "data": {
            "text/plain": [
              "Index(['Season', 'Daynum', 'Wteam', 'Wscore', 'Lteam', 'Lscore', 'Wloc',\n",
              "       'Numot'],\n",
              "      dtype='object')"
            ]
          },
          "metadata": {
            "tags": []
          },
          "execution_count": 51
        }
      ]
    },
    {
      "metadata": {
        "id": "sgP0-tLp1bll",
        "colab_type": "code",
        "outputId": "686e5c84-2e2a-408c-ea1e-b31acf7dcfac",
        "colab": {
          "base_uri": "https://localhost:8080/",
          "height": 313
        }
      },
      "cell_type": "code",
      "source": [
        "df.describe()"
      ],
      "execution_count": 0,
      "outputs": [
        {
          "output_type": "execute_result",
          "data": {
            "text/html": [
              "<div>\n",
              "<style scoped>\n",
              "    .dataframe tbody tr th:only-of-type {\n",
              "        vertical-align: middle;\n",
              "    }\n",
              "\n",
              "    .dataframe tbody tr th {\n",
              "        vertical-align: top;\n",
              "    }\n",
              "\n",
              "    .dataframe thead th {\n",
              "        text-align: right;\n",
              "    }\n",
              "</style>\n",
              "<table border=\"1\" class=\"dataframe\">\n",
              "  <thead>\n",
              "    <tr style=\"text-align: right;\">\n",
              "      <th></th>\n",
              "      <th>Season</th>\n",
              "      <th>Daynum</th>\n",
              "      <th>Wteam</th>\n",
              "      <th>Wscore</th>\n",
              "      <th>Lteam</th>\n",
              "      <th>Lscore</th>\n",
              "      <th>Numot</th>\n",
              "    </tr>\n",
              "  </thead>\n",
              "  <tbody>\n",
              "    <tr>\n",
              "      <th>count</th>\n",
              "      <td>145289.000000</td>\n",
              "      <td>145289.000000</td>\n",
              "      <td>145289.000000</td>\n",
              "      <td>145289.000000</td>\n",
              "      <td>145289.000000</td>\n",
              "      <td>145289.000000</td>\n",
              "      <td>145289.000000</td>\n",
              "    </tr>\n",
              "    <tr>\n",
              "      <th>mean</th>\n",
              "      <td>2001.574834</td>\n",
              "      <td>75.223816</td>\n",
              "      <td>1286.720646</td>\n",
              "      <td>76.600321</td>\n",
              "      <td>1282.864064</td>\n",
              "      <td>64.497009</td>\n",
              "      <td>0.044387</td>\n",
              "    </tr>\n",
              "    <tr>\n",
              "      <th>std</th>\n",
              "      <td>9.233342</td>\n",
              "      <td>33.287418</td>\n",
              "      <td>104.570275</td>\n",
              "      <td>12.173033</td>\n",
              "      <td>104.829234</td>\n",
              "      <td>11.380625</td>\n",
              "      <td>0.247819</td>\n",
              "    </tr>\n",
              "    <tr>\n",
              "      <th>min</th>\n",
              "      <td>1985.000000</td>\n",
              "      <td>0.000000</td>\n",
              "      <td>1101.000000</td>\n",
              "      <td>34.000000</td>\n",
              "      <td>1101.000000</td>\n",
              "      <td>20.000000</td>\n",
              "      <td>0.000000</td>\n",
              "    </tr>\n",
              "    <tr>\n",
              "      <th>25%</th>\n",
              "      <td>1994.000000</td>\n",
              "      <td>47.000000</td>\n",
              "      <td>1198.000000</td>\n",
              "      <td>68.000000</td>\n",
              "      <td>1191.000000</td>\n",
              "      <td>57.000000</td>\n",
              "      <td>0.000000</td>\n",
              "    </tr>\n",
              "    <tr>\n",
              "      <th>50%</th>\n",
              "      <td>2002.000000</td>\n",
              "      <td>78.000000</td>\n",
              "      <td>1284.000000</td>\n",
              "      <td>76.000000</td>\n",
              "      <td>1280.000000</td>\n",
              "      <td>64.000000</td>\n",
              "      <td>0.000000</td>\n",
              "    </tr>\n",
              "    <tr>\n",
              "      <th>75%</th>\n",
              "      <td>2010.000000</td>\n",
              "      <td>103.000000</td>\n",
              "      <td>1379.000000</td>\n",
              "      <td>84.000000</td>\n",
              "      <td>1375.000000</td>\n",
              "      <td>72.000000</td>\n",
              "      <td>0.000000</td>\n",
              "    </tr>\n",
              "    <tr>\n",
              "      <th>max</th>\n",
              "      <td>2016.000000</td>\n",
              "      <td>132.000000</td>\n",
              "      <td>1464.000000</td>\n",
              "      <td>186.000000</td>\n",
              "      <td>1464.000000</td>\n",
              "      <td>150.000000</td>\n",
              "      <td>6.000000</td>\n",
              "    </tr>\n",
              "  </tbody>\n",
              "</table>\n",
              "</div>"
            ],
            "text/plain": [
              "              Season         Daynum          Wteam         Wscore  \\\n",
              "count  145289.000000  145289.000000  145289.000000  145289.000000   \n",
              "mean     2001.574834      75.223816    1286.720646      76.600321   \n",
              "std         9.233342      33.287418     104.570275      12.173033   \n",
              "min      1985.000000       0.000000    1101.000000      34.000000   \n",
              "25%      1994.000000      47.000000    1198.000000      68.000000   \n",
              "50%      2002.000000      78.000000    1284.000000      76.000000   \n",
              "75%      2010.000000     103.000000    1379.000000      84.000000   \n",
              "max      2016.000000     132.000000    1464.000000     186.000000   \n",
              "\n",
              "               Lteam         Lscore          Numot  \n",
              "count  145289.000000  145289.000000  145289.000000  \n",
              "mean     1282.864064      64.497009       0.044387  \n",
              "std       104.829234      11.380625       0.247819  \n",
              "min      1101.000000      20.000000       0.000000  \n",
              "25%      1191.000000      57.000000       0.000000  \n",
              "50%      1280.000000      64.000000       0.000000  \n",
              "75%      1375.000000      72.000000       0.000000  \n",
              "max      1464.000000     150.000000       6.000000  "
            ]
          },
          "metadata": {
            "tags": []
          },
          "execution_count": 52
        }
      ]
    },
    {
      "metadata": {
        "id": "CBbn2uDveYIU",
        "colab_type": "text"
      },
      "cell_type": "markdown",
      "source": [
        ""
      ]
    },
    {
      "metadata": {
        "id": "FyeeIKmO1e6T",
        "colab_type": "code",
        "outputId": "5c196f1c-eab5-4363-a8b3-61dc3b22bb44",
        "colab": {
          "base_uri": "https://localhost:8080/",
          "height": 173
        }
      },
      "cell_type": "code",
      "source": [
        "df.max()"
      ],
      "execution_count": 0,
      "outputs": [
        {
          "output_type": "execute_result",
          "data": {
            "text/plain": [
              "Season    2016\n",
              "Daynum     132\n",
              "Wteam     1464\n",
              "Wscore     186\n",
              "Lteam     1464\n",
              "Lscore     150\n",
              "Wloc         N\n",
              "Numot        6\n",
              "dtype: object"
            ]
          },
          "metadata": {
            "tags": []
          },
          "execution_count": 53
        }
      ]
    },
    {
      "metadata": {
        "id": "QcC5i-xj1ltC",
        "colab_type": "code",
        "outputId": "234f869b-539d-45e2-ad65-3baeaacf1fc2",
        "colab": {
          "base_uri": "https://localhost:8080/",
          "height": 156
        }
      },
      "cell_type": "code",
      "source": [
        "df.mean()"
      ],
      "execution_count": 0,
      "outputs": [
        {
          "output_type": "execute_result",
          "data": {
            "text/plain": [
              "Season    2001.574834\n",
              "Daynum      75.223816\n",
              "Wteam     1286.720646\n",
              "Wscore      76.600321\n",
              "Lteam     1282.864064\n",
              "Lscore      64.497009\n",
              "Numot        0.044387\n",
              "dtype: float64"
            ]
          },
          "metadata": {
            "tags": []
          },
          "execution_count": 54
        }
      ]
    },
    {
      "metadata": {
        "id": "NWIcj672o8c_",
        "colab_type": "text"
      },
      "cell_type": "markdown",
      "source": [
        "## Groups"
      ]
    },
    {
      "metadata": {
        "id": "086HQ6Hi1q54",
        "colab_type": "code",
        "outputId": "506f4e47-1caa-4e28-b82e-87acbf4e4858",
        "colab": {
          "base_uri": "https://localhost:8080/",
          "height": 381
        }
      },
      "cell_type": "code",
      "source": [
        "groups = df.groupby('Wloc')\n",
        "\n",
        "for name, group in groups:\n",
        "    print(group.head())\n",
        "    print()"
      ],
      "execution_count": 0,
      "outputs": [
        {
          "output_type": "stream",
          "text": [
            "    Season  Daynum  Wteam  Wscore  Lteam  Lscore Wloc  Numot\n",
            "17    1985      26   1135      65   1306      60    A      0\n",
            "20    1985      26   1165      47   1159      40    A      0\n",
            "24    1985      26   1193      79   1265      76    A      0\n",
            "28    1985      26   1211      64   1102      59    A      0\n",
            "32    1985      26   1257      75   1231      64    A      0\n",
            "\n",
            "   Season  Daynum  Wteam  Wscore  Lteam  Lscore Wloc  Numot\n",
            "1    1985      25   1106      77   1354      70    H      0\n",
            "2    1985      25   1112      63   1223      56    H      0\n",
            "3    1985      25   1165      70   1432      54    H      0\n",
            "4    1985      25   1192      86   1447      74    H      0\n",
            "5    1985      25   1218      79   1337      78    H      0\n",
            "\n",
            "    Season  Daynum  Wteam  Wscore  Lteam  Lscore Wloc  Numot\n",
            "0     1985      20   1228      81   1328      64    N      0\n",
            "6     1985      25   1228      64   1226      44    N      0\n",
            "7     1985      25   1242      58   1268      56    N      0\n",
            "11    1985      25   1344      75   1438      71    N      0\n",
            "13    1985      25   1412      70   1397      65    N      0\n",
            "\n"
          ],
          "name": "stdout"
        }
      ]
    },
    {
      "metadata": {
        "id": "z1_j5DZh7q3-",
        "colab_type": "code",
        "outputId": "0c20be51-f0ac-490b-b7cf-4b31b56eb20f",
        "colab": {
          "base_uri": "https://localhost:8080/",
          "height": 171
        }
      },
      "cell_type": "code",
      "source": [
        "df.groupby('Wloc').mean()"
      ],
      "execution_count": 0,
      "outputs": [
        {
          "output_type": "execute_result",
          "data": {
            "text/html": [
              "<div>\n",
              "<style scoped>\n",
              "    .dataframe tbody tr th:only-of-type {\n",
              "        vertical-align: middle;\n",
              "    }\n",
              "\n",
              "    .dataframe tbody tr th {\n",
              "        vertical-align: top;\n",
              "    }\n",
              "\n",
              "    .dataframe thead th {\n",
              "        text-align: right;\n",
              "    }\n",
              "</style>\n",
              "<table border=\"1\" class=\"dataframe\">\n",
              "  <thead>\n",
              "    <tr style=\"text-align: right;\">\n",
              "      <th></th>\n",
              "      <th>Season</th>\n",
              "      <th>Daynum</th>\n",
              "      <th>Wteam</th>\n",
              "      <th>Wscore</th>\n",
              "      <th>Lteam</th>\n",
              "      <th>Lscore</th>\n",
              "      <th>Numot</th>\n",
              "    </tr>\n",
              "    <tr>\n",
              "      <th>Wloc</th>\n",
              "      <th></th>\n",
              "      <th></th>\n",
              "      <th></th>\n",
              "      <th></th>\n",
              "      <th></th>\n",
              "      <th></th>\n",
              "      <th></th>\n",
              "    </tr>\n",
              "  </thead>\n",
              "  <tbody>\n",
              "    <tr>\n",
              "      <th>A</th>\n",
              "      <td>2001.618395</td>\n",
              "      <td>78.951932</td>\n",
              "      <td>1286.153225</td>\n",
              "      <td>74.781343</td>\n",
              "      <td>1282.989057</td>\n",
              "      <td>65.336499</td>\n",
              "      <td>0.055507</td>\n",
              "    </tr>\n",
              "    <tr>\n",
              "      <th>H</th>\n",
              "      <td>2001.554035</td>\n",
              "      <td>73.416059</td>\n",
              "      <td>1287.213216</td>\n",
              "      <td>77.739092</td>\n",
              "      <td>1282.724266</td>\n",
              "      <td>64.105677</td>\n",
              "      <td>0.036544</td>\n",
              "    </tr>\n",
              "    <tr>\n",
              "      <th>N</th>\n",
              "      <td>2001.566043</td>\n",
              "      <td>74.636233</td>\n",
              "      <td>1285.521352</td>\n",
              "      <td>75.365207</td>\n",
              "      <td>1283.313730</td>\n",
              "      <td>64.271437</td>\n",
              "      <td>0.057166</td>\n",
              "    </tr>\n",
              "  </tbody>\n",
              "</table>\n",
              "</div>"
            ],
            "text/plain": [
              "           Season     Daynum        Wteam     Wscore        Lteam     Lscore  \\\n",
              "Wloc                                                                           \n",
              "A     2001.618395  78.951932  1286.153225  74.781343  1282.989057  65.336499   \n",
              "H     2001.554035  73.416059  1287.213216  77.739092  1282.724266  64.105677   \n",
              "N     2001.566043  74.636233  1285.521352  75.365207  1283.313730  64.271437   \n",
              "\n",
              "         Numot  \n",
              "Wloc            \n",
              "A     0.055507  \n",
              "H     0.036544  \n",
              "N     0.057166  "
            ]
          },
          "metadata": {
            "tags": []
          },
          "execution_count": 56
        }
      ]
    },
    {
      "metadata": {
        "id": "rosp7VU9oubG",
        "colab_type": "text"
      },
      "cell_type": "markdown",
      "source": [
        "# Matplotlib / Seaborn"
      ]
    },
    {
      "metadata": {
        "id": "P--IyczgoudZ",
        "colab_type": "text"
      },
      "cell_type": "markdown",
      "source": [
        "* showcase how it works\n",
        "* it's utility\n",
        "* visualize data\n",
        "* tipical usage of visualization"
      ]
    },
    {
      "metadata": {
        "id": "_zm8_tZw48Bl",
        "colab_type": "code",
        "colab": {}
      },
      "cell_type": "code",
      "source": [
        "import matplotlib.pyplot as plt"
      ],
      "execution_count": 0,
      "outputs": []
    },
    {
      "metadata": {
        "id": "a6z9hdrO8K98",
        "colab_type": "code",
        "outputId": "9c048f59-49d4-46a4-b1b5-50dea29b90c1",
        "colab": {
          "base_uri": "https://localhost:8080/",
          "height": 362
        }
      },
      "cell_type": "code",
      "source": [
        "x = np.random.randint(100, size=(100))\n",
        "y = np.random.randint(100, size=(100))\n",
        "\n",
        "plt.scatter(x, y)\n",
        "plt.title('Scatter Plot')\n",
        "plt.show()"
      ],
      "execution_count": 0,
      "outputs": [
        {
          "output_type": "display_data",
          "data": {
            "image/png": "[encoded data removed]",
            "text/plain": [
              "<Figure size 576x396 with 1 Axes>"
            ]
          },
          "metadata": {
            "tags": []
          }
        }
      ]
    },
    {
      "metadata": {
        "id": "Hbi0dBzu7wBk",
        "colab_type": "code",
        "outputId": "a41d4105-f270-436d-e3f2-cc275f2a5481",
        "colab": {
          "base_uri": "https://localhost:8080/",
          "height": 362
        }
      },
      "cell_type": "code",
      "source": [
        "x = np.linspace(0, 3 * np.pi, 500)\n",
        "\n",
        "plt.plot(x, np.sin(x**2))\n",
        "plt.title('A simple chirp')\n",
        "plt.show()"
      ],
      "execution_count": 0,
      "outputs": [
        {
          "output_type": "display_data",
          "data": {
            "image/png": "[encoded data removed]",
            "text/plain": [
              "<Figure size 576x396 with 1 Axes>"
            ]
          },
          "metadata": {
            "tags": []
          }
        }
      ]
    },
    {
      "metadata": {
        "id": "fYFGMldv7xvR",
        "colab_type": "code",
        "outputId": "9ce9eb17-2079-43a8-e2cd-26dddf6f4a37",
        "colab": {
          "base_uri": "https://localhost:8080/",
          "height": 362
        }
      },
      "cell_type": "code",
      "source": [
        "x = np.random.randint(100, size=(100))\n",
        "\n",
        "plt.hist(x)\n",
        "plt.title('Histogram')\n",
        "plt.show()"
      ],
      "execution_count": 0,
      "outputs": [
        {
          "output_type": "display_data",
          "data": {
            "image/png": "[encoded data removed]",
            "text/plain": [
              "<Figure size 576x396 with 1 Axes>"
            ]
          },
          "metadata": {
            "tags": []
          }
        }
      ]
    },
    {
      "metadata": {
        "id": "j9XR5_u19D-1",
        "colab_type": "code",
        "outputId": "9920ea9e-6c19-443b-f655-109156a910d7",
        "colab": {
          "base_uri": "https://localhost:8080/",
          "height": 362
        }
      },
      "cell_type": "code",
      "source": [
        "plt.hist(x, bins=20, color='green', orientation='horizontal')\n",
        "plt.title('Histogram') \n",
        "plt.show()"
      ],
      "execution_count": 0,
      "outputs": [
        {
          "output_type": "display_data",
          "data": {
            "image/png": "[encoded data removed]",
            "text/plain": [
              "<Figure size 576x396 with 1 Axes>"
            ]
          },
          "metadata": {
            "tags": []
          }
        }
      ]
    },
    {
      "metadata": {
        "id": "iZV_9JSJ9nvY",
        "colab_type": "code",
        "colab": {}
      },
      "cell_type": "code",
      "source": [
        "import seaborn as sns"
      ],
      "execution_count": 0,
      "outputs": []
    },
    {
      "metadata": {
        "id": "JeEasIta9pzq",
        "colab_type": "code",
        "outputId": "fbf0bce5-03f3-463a-e73d-29ded10b6849",
        "colab": {
          "base_uri": "https://localhost:8080/",
          "height": 440
        }
      },
      "cell_type": "code",
      "source": [
        "x = np.random.normal(size=100)\n",
        "\n",
        "sns.distplot(x)"
      ],
      "execution_count": 0,
      "outputs": [
        {
          "output_type": "stream",
          "text": [
            "/usr/local/lib/python3.6/dist-packages/matplotlib/axes/_axes.py:6521: MatplotlibDeprecationWarning: \n",
            "The 'normed' kwarg was deprecated in Matplotlib 2.1 and will be removed in 3.1. Use 'density' instead.\n",
            "  alternative=\"'density'\", removal=\"3.1\")\n"
          ],
          "name": "stderr"
        },
        {
          "output_type": "execute_result",
          "data": {
            "text/plain": [
              "<matplotlib.axes._subplots.AxesSubplot at 0x7f7bf356e358>"
            ]
          },
          "metadata": {
            "tags": []
          },
          "execution_count": 64
        },
        {
          "output_type": "display_data",
          "data": {
            "image/png": "[encoded data removed]",
            "text/plain": [
              "<Figure size 576x396 with 1 Axes>"
            ]
          },
          "metadata": {
            "tags": []
          }
        }
      ]
    },
    {
      "metadata": {
        "id": "5MUsqz8t-ABj",
        "colab_type": "code",
        "outputId": "20bbd658-95d7-4b2a-9494-f27aadacf299",
        "colab": {
          "base_uri": "https://localhost:8080/",
          "height": 368
        }
      },
      "cell_type": "code",
      "source": [
        "sns.kdeplot(x, shade=True)"
      ],
      "execution_count": 0,
      "outputs": [
        {
          "output_type": "execute_result",
          "data": {
            "text/plain": [
              "<matplotlib.axes._subplots.AxesSubplot at 0x7f7bf30e8780>"
            ]
          },
          "metadata": {
            "tags": []
          },
          "execution_count": 65
        },
        {
          "output_type": "display_data",
          "data": {
            "image/png": "[encoded data removed]",
            "text/plain": [
              "<Figure size 576x396 with 1 Axes>"
            ]
          },
          "metadata": {
            "tags": []
          }
        }
      ]
    },
    {
      "metadata": {
        "id": "yyRqxtvY_HIi",
        "colab_type": "code",
        "outputId": "649d4a23-342a-4c2e-da29-cbe94afec749",
        "colab": {
          "base_uri": "https://localhost:8080/",
          "height": 508
        }
      },
      "cell_type": "code",
      "source": [
        "x = np.random.randint(100, size=(100))\n",
        "y = np.random.randint(100, size=(100))\n",
        "\n",
        "sns.jointplot(x=\"x\", y=\"y\", data=pd.DataFrame({'x': x, 'y': y}), marginal_kws=dict(bins=15))"
      ],
      "execution_count": 0,
      "outputs": [
        {
          "output_type": "stream",
          "text": [
            "/usr/local/lib/python3.6/dist-packages/matplotlib/axes/_axes.py:6521: MatplotlibDeprecationWarning: \n",
            "The 'normed' kwarg was deprecated in Matplotlib 2.1 and will be removed in 3.1. Use 'density' instead.\n",
            "  alternative=\"'density'\", removal=\"3.1\")\n"
          ],
          "name": "stderr"
        },
        {
          "output_type": "execute_result",
          "data": {
            "text/plain": [
              "<seaborn.axisgrid.JointGrid at 0x7f7bf3cd0438>"
            ]
          },
          "metadata": {
            "tags": []
          },
          "execution_count": 66
        },
        {
          "output_type": "display_data",
          "data": {
            "image/png": "[encoded data removed]",
            "text/plain": [
              "<Figure size 432x432 with 3 Axes>"
            ]
          },
          "metadata": {
            "tags": []
          }
        }
      ]
    }
  ]
}