{
  "nbformat": 4,
  "nbformat_minor": 0,
  "metadata": {
    "colab": {
      "name": "Class 2.ipynb",
      "version": "0.3.2",
      "provenance": [],
      "toc_visible": true,
      "include_colab_link": true
    },
    "kernelspec": {
      "name": "python3",
      "display_name": "Python 3"
    }
  },
  "cells": [
    {
      "cell_type": "markdown",
      "metadata": {
        "id": "view-in-github",
        "colab_type": "text"
      },
      "source": [
        "<a href=\"https://colab.research.google.com/github/ashcrok/workshop/blob/master/Class%202.ipynb\" target=\"_parent\"><img src=\"https://colab.research.google.com/assets/colab-badge.svg\" alt=\"Open In Colab\"/></a>"
      ]
    },
    {
      "metadata": {
        "id": "ZA81D9UBcov_",
        "colab_type": "text"
      },
      "cell_type": "markdown",
      "source": [
        "# Machine Learning Introduction"
      ]
    },
    {
      "metadata": {
        "id": "o6bpvkzUcu-m",
        "colab_type": "text"
      },
      "cell_type": "markdown",
      "source": [
        "Road-map:\n",
        "\n",
        "1.   Theory on types of learners\n",
        "2.   Sklearn short general tutorial\n",
        "3.   Load in some datasets to play with\n",
        "4.   Give example for each type of learner\n",
        "\n"
      ]
    },
    {
      "metadata": {
        "id": "CWI1nrNKeh7-",
        "colab_type": "text"
      },
      "cell_type": "markdown",
      "source": [
        "## Definition"
      ]
    },
    {
      "metadata": {
        "id": "1OgKuXMgeeMU",
        "colab_type": "text"
      },
      "cell_type": "markdown",
      "source": [
        "`Machine learning (ML) is the scientific study of algorithms and statistical models that computer systems use to effectively perform a specific task without using explicit instructions, relying on patterns and inference instead. It is seen as a subset of artificial intelligence. Machine learning algorithms build a mathematical model of sample data, known as \"training data\", in order to make predictions or decisions without being explicitly programmed to perform the task. Machine learning algorithms are used in a wide variety of applications, such as email filtering, and computer vision, where it is infeasible to develop an algorithm of specific instructions for performing the task. Machine learning is closely related to computational statistics, which focuses on making predictions using computers. The study of mathematical optimization delivers methods, theory and application domains to the field of machine learning.`\n",
        "\n",
        ">  *from Wikipedia*\n",
        "\n"
      ]
    },
    {
      "metadata": {
        "id": "6vXePSCUgHp1",
        "colab_type": "text"
      },
      "cell_type": "markdown",
      "source": [
        "Machine learning was defined in 1959 by Arthur Samuel as the:\n",
        "\n",
        "`field of study that gives computers the ability to learn without being explicitly programmed.`\n",
        "\n",
        "This means imbuing knowledge to machines without hard-coding it."
      ]
    },
    {
      "metadata": {
        "id": "msWfPwPIekXe",
        "colab_type": "text"
      },
      "cell_type": "markdown",
      "source": [
        "## Quoates"
      ]
    },
    {
      "metadata": {
        "id": "8EAw3DvqfUrk",
        "colab_type": "text"
      },
      "cell_type": "markdown",
      "source": [
        "“It’s likely that machines will be smarter than us before the end of the century—not just at chess or trivia questions but at just about everything, from mathematics and engineering to science and medicine.” –* Gary Marcus*\n",
        "\n",
        "“Our intelligence is what makes us human, and AI is an extension of that quality.” –* Yann LeCun*\n",
        "\n",
        "“As a technologist, I see how AI and the fourth industrial revolution will impact every aspect of people’s lives.” – *Fei-Fei Li*\n",
        "\n",
        "“AI will probably most likely lead to the end of the world, but in the meantime, there'll be great companies.” -  *Sam Altman*\n",
        "\n",
        "\"The real risk with AI isn't malice but competence. A superintelligent AI will be extremely good at accomplishing its goals, and if those goals aren't aligned with ours, we're in trouble. You're probably not an evil ant-hater who steps on ants out of malice, but if you're in charge of a hydroelectric green energy project and there's an anthill in the region to be flooded, too bad for the ants. Let's not place humanity in the position of those ants.” – Stephen Hawking\n",
        "\n",
        "“I have always been convinced that the only way to get artificial intelligence to work is to do the computation in a way similar to the human brain. That is the goal I have been pursuing. We are making progress, though we still have lots to learn about how the brain actually works.” -  Geoffrey Hinton\n",
        "\n",
        "“The new spring in AI is the most significant development in computing in my lifetime. Every month, there are stunning new applications and transformative new techniques. But such powerful tools also bring with them new questions and responsibilities.” – Sergey Brin\n",
        "\n",
        "“You want to know how super-intelligent cyborgs might treat ordinary flesh-and-blood humans? Better start by investigating how humans treat their less intelligent animal cousins. It’s not a perfect analogy, of course, but it is the best archetype we can actually observe rather than just imagine.” – Yuval Noah Harari\n",
        "\n",
        "\"I am in the camp that is concerned about super intelligence.\" – Bill Gates"
      ]
    },
    {
      "metadata": {
        "id": "zLQpjM_yfm2s",
        "colab_type": "text"
      },
      "cell_type": "markdown",
      "source": [
        "## What Machine Learning actually is"
      ]
    },
    {
      "metadata": {
        "id": "zuaBwQsTd-HL",
        "colab_type": "text"
      },
      "cell_type": "markdown",
      "source": [
        "![alt text](https://cdn-images-1.medium.com/max/1200/1*x7P7gqjo8k2_bj2rTQWAfg.jpeg)"
      ]
    },
    {
      "metadata": {
        "id": "xN9TveN8f1Zj",
        "colab_type": "text"
      },
      "cell_type": "markdown",
      "source": [
        "# General Theory"
      ]
    },
    {
      "metadata": {
        "id": "BADueZQido6l",
        "colab_type": "text"
      },
      "cell_type": "markdown",
      "source": [
        "![alt text](https://cdn-images-1.medium.com/max/899/1*9Eu_-DDMZ_bP_t94_MMEYA.png)"
      ]
    },
    {
      "metadata": {
        "id": "CEZxCKf6lO2V",
        "colab_type": "text"
      },
      "cell_type": "markdown",
      "source": [
        "## Supervised Learning"
      ]
    },
    {
      "metadata": {
        "id": "EGuEGrpRmXY1",
        "colab_type": "text"
      },
      "cell_type": "markdown",
      "source": [
        "Supervised Learning Algorithms are the ones that involve direct supervision (cue the title) of the operation. In this case, the developer labels sample data corpus and set strict boundaries upon which the algorithm operates."
      ]
    },
    {
      "metadata": {
        "id": "QACy4Nv4mY1F",
        "colab_type": "text"
      },
      "cell_type": "markdown",
      "source": [
        "It is a spoonfed version of machine learning:\n",
        "\n",
        " - you select what kind of information output (samples) to “feed” the algorithm;\n",
        " \n",
        " - what kind of results it is desired (for example “yes/no” or “true/false”).\n",
        " \n",
        "From the machine’s point of view, this process becomes more or less a “connect the dots” routine."
      ]
    },
    {
      "metadata": {
        "id": "nWvsoPwxmjSQ",
        "colab_type": "text"
      },
      "cell_type": "markdown",
      "source": [
        "The primary purpose of supervised learning is to scale the scope of data and to make predictions of unavailable, future or unseen data based on labeled sample data."
      ]
    },
    {
      "metadata": {
        "id": "UzM9SyXcmybn",
        "colab_type": "text"
      },
      "cell_type": "markdown",
      "source": [
        "![alt text](https://cdn-images-1.medium.com/max/1600/0*qf-O7Jm1mmZrXYqA)"
      ]
    },
    {
      "metadata": {
        "id": "EH-1ZepSmFKv",
        "colab_type": "text"
      },
      "cell_type": "markdown",
      "source": [
        "### Classification "
      ]
    },
    {
      "metadata": {
        "id": "P6YomparmKLM",
        "colab_type": "text"
      },
      "cell_type": "markdown",
      "source": [
        "Classification is the process where incoming data is labeled based on past data samples and manually trains the algorithm to recognize certain types of objects and categorize them accordingly. The system has to know how to differentiate types of information, perform an optical character, image, or binary recognition (whether a particular bit of data is compliant or non-compliant to specific requirements in a manner of “yes” or “no”)."
      ]
    },
    {
      "metadata": {
        "id": "a1CqHNObnZtI",
        "colab_type": "text"
      },
      "cell_type": "markdown",
      "source": [
        "Examples:\n",
        "\n",
        " - Spam Detection\n",
        " \n",
        " - Churn Prediction\n",
        " \n",
        " - Sentiment Analysis\n",
        " \n",
        " - Face Detection"
      ]
    },
    {
      "metadata": {
        "id": "J89Xi4VCmF5y",
        "colab_type": "text"
      },
      "cell_type": "markdown",
      "source": [
        "### Regression "
      ]
    },
    {
      "metadata": {
        "id": "PXctW09XqTDT",
        "colab_type": "text"
      },
      "cell_type": "markdown",
      "source": [
        "Regression is the process of identifying patterns and calculating the predictions of continuous outcomes. The system has to understand the numbers, their values, grouping (for example, heights and widths), etc. "
      ]
    },
    {
      "metadata": {
        "id": "uT4FpDSJsv-2",
        "colab_type": "text"
      },
      "cell_type": "markdown",
      "source": [
        "Examples:\n",
        "\n",
        "- Predicting age of a person\n",
        "\n",
        "- Predicting a house price\n",
        "\n",
        "- Predicting stock price of a company"
      ]
    },
    {
      "metadata": {
        "id": "ng8msvI9nwK3",
        "colab_type": "text"
      },
      "cell_type": "markdown",
      "source": [
        "### Classification vs Regression"
      ]
    },
    {
      "metadata": {
        "id": "5fwPZZYWn20x",
        "colab_type": "text"
      },
      "cell_type": "markdown",
      "source": [
        "To make sure that the distinction is clear, here is an image that showcases the difference between the two types of Supervised Learning."
      ]
    },
    {
      "metadata": {
        "id": "QjvtF1FbnzjP",
        "colab_type": "text"
      },
      "cell_type": "markdown",
      "source": [
        "![alt text](https://cdn-images-1.medium.com/max/1600/0*WE3Sz--1NUEWBmUR.)"
      ]
    },
    {
      "metadata": {
        "id": "DQgMwYrxoMQJ",
        "colab_type": "text"
      },
      "cell_type": "markdown",
      "source": [
        "![alt text](http://quantdare.com/wp-content/uploads/2016/03/Regression_vs_Classification-800x383.png)"
      ]
    },
    {
      "metadata": {
        "id": "d3Ezl3QRlQtg",
        "colab_type": "text"
      },
      "cell_type": "markdown",
      "source": [
        "## Unsupervised Learning"
      ]
    },
    {
      "metadata": {
        "id": "IZb2AHSdl6Sp",
        "colab_type": "text"
      },
      "cell_type": "markdown",
      "source": [
        "### Clustering"
      ]
    },
    {
      "metadata": {
        "id": "bpd5I7x_y9SK",
        "colab_type": "text"
      },
      "cell_type": "markdown",
      "source": [
        "“Clustering” is the process of grouping similar entities together. The goal of this unsupervised machine learning technique is to find similarities in the data point and group similar data points together."
      ]
    },
    {
      "metadata": {
        "id": "sCJcl1s_zB8k",
        "colab_type": "text"
      },
      "cell_type": "markdown",
      "source": [
        "Grouping similar entities together help profile the attributes of different groups. In other words, this will give us insight into underlying patterns of different groups. There are many applications of grouping unlabeled data, for example, you can identify different groups/segments of customers and market each group in a different way to maximize the revenue. Another example is grouping documents together which belong to the similar topics etc. "
      ]
    },
    {
      "metadata": {
        "id": "ew6g0KLjzuc9",
        "colab_type": "text"
      },
      "cell_type": "markdown",
      "source": [
        "![alt text](https://i.stack.imgur.com/KHhXA.png)"
      ]
    },
    {
      "metadata": {
        "id": "wIA2PGHel8I_",
        "colab_type": "text"
      },
      "cell_type": "markdown",
      "source": [
        "### Dimensionality reduction"
      ]
    },
    {
      "metadata": {
        "id": "1IDfq7ex0G76",
        "colab_type": "text"
      },
      "cell_type": "markdown",
      "source": [
        "Dimensionality reduction looks a lot like compression. This is about trying to reduce the complexity of the data while keeping as much of the relevant structure as possible. If you take a simple 128 x 128 x 3 pixels image (length x width x RGB value), that’s 49,152 dimensions of data. If you’re able to reduce the dimensionality of the space in which these images live without destroying too much of the meaningful content in the images, then you’ve done a good job at dimensionality reduction."
      ]
    },
    {
      "metadata": {
        "id": "0XAtuOsXz_4D",
        "colab_type": "text"
      },
      "cell_type": "markdown",
      "source": [
        "![alt text](http://science.sciencemag.org/content/sci/290/5500/2323/F1.large.jpg?width=800&height=600&carousel=1)"
      ]
    },
    {
      "metadata": {
        "id": "L3p04Ea_lTpM",
        "colab_type": "text"
      },
      "cell_type": "markdown",
      "source": [
        "## Reinforcement Learning"
      ]
    },
    {
      "metadata": {
        "id": "BS6cRDDe0RIR",
        "colab_type": "text"
      },
      "cell_type": "markdown",
      "source": [
        "Reinforcement learning can be understood using the concepts of agents, environments, states, actions and rewards, all of which we’ll explain below. Capital letters tend to denote sets of things, and lower-case letters denote a specific instance of that thing; e.g. A is all possible actions, while a is a specific action contained in the set.\n",
        "\n",
        "- Agent: An agent takes actions; for example, a drone making a delivery, or Super Mario navigating a video game. The algorithm is the agent. In life, the agent is you.1\n",
        "\n",
        "- Action (A): A is the set of all possible moves the agent can make. An action is almost self-explanatory, but it should be noted that agents choose among a list of possible actions. In video games, the list might include running right or left, jumping high or low, crouching or standing still. In the stock markets, the list might include buying, selling or holding any one of an array of securities and their derivatives. When handling aerial drones, alternatives would include many different velocities and accelerations in 3D space.\n",
        "\n",
        "- Discount factor: The discount factor is multiplied by future rewards as discovered by the agent in order to dampen thse rewards’ effect on the agent’s choice of action. Why? It is designed to make future rewards worth less than immediate rewards; i.e. it enforces a kind of short-term hedonism in the agent. Often expressed with the lower-case Greek letter gamma: γ. If γ is .8, and there’s a reward of 10 points after 3 time steps, the present value of that reward is 0.8³ x 10. A discount factor of 1 would make future rewards worth just as much as immediate rewards. We’re fighting against delayed gratification here.\n",
        "\n",
        "- Environment: The world through which the agent moves. The environment takes the agent’s current state and action as input, and returns as output the agent’s reward and its next state. If you are the agent, the environment could be the laws of physics and the rules of society that process your actions and determine the consequences of them.\n",
        "\n",
        "- State (S): A state is a concrete and immediate situation in which the agent finds itself; i.e. a specific place and moment, an instantaneous configuration that puts the agent in relation to other significant things such as tools, obstacles, enemies or prizes. It can the current situation returned by the environment, or any future situation. Were you ever in the wrong place at the wrong time? That’s a state.\n",
        "\n",
        "- Reward (R): A reward is the feedback by which we measure the success or failure of an agent’s actions. For example, in a video game, when Mario touches a coin, he wins points. From any given state, an agent sends output in the form of actions to the environment, and the environment returns the agent’s new state (which resulted from acting on the previous state) as well as rewards, if there are any. Rewards can be immediate or delayed. They effectively evaluate the agent’s action.\n",
        "\n",
        "- Policy (π): The policy is the strategy that the agent employs to determine the next action based on the current state. It maps states to actions, the actions that promise the highest reward.\n",
        "\n",
        "- Value (V): The expected long-term return with discount, as opposed to the short-term reward R. Vπ(s) is defined as the expected long-term return of the current state under policy π. We discount rewards, or lower their estimated value, the further into the future they occur. See discount factor. And remember Keynes: “In the long run, we are all dead.” That’s why you discount future rewards.\n",
        "\n",
        "- Q-value or action-value (Q): Q-value is similar to Value, except that it takes an extra parameter, the current action a. Qπ(s, a) refers to the long-term return of the current state s, taking action a under policy π. Q maps state-action pairs to rewards. Note the difference between Q and policy.\n",
        "\n",
        "- Trajectory: A sequence of states and actions that influence those states. From the Latin “to throw across.” The life of an agent is but a ball tossed high and arching through space-time."
      ]
    },
    {
      "metadata": {
        "id": "pXPJkKON0rdE",
        "colab_type": "text"
      },
      "cell_type": "markdown",
      "source": [
        "![alt text](data:image/png;base64,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)"
      ]
    },
    {
      "metadata": {
        "id": "gwHvfPHEGIr3",
        "colab_type": "text"
      },
      "cell_type": "markdown",
      "source": [
        "# Simple Linear Regression"
      ]
    },
    {
      "metadata": {
        "id": "FJmGILzHHTEN",
        "colab_type": "text"
      },
      "cell_type": "markdown",
      "source": [
        "Taking a slope line as follows:\n",
        "\n",
        "```\n",
        "y = mx + b\n",
        "```\n",
        "\n",
        "Where:\n",
        "\n",
        " - y - our target values (aka our output)\n",
        " \n",
        " - x - our features (aka input)\n",
        "\n",
        " - m - intercept\n",
        " \n",
        " - b - bias\n",
        " \n",
        " Given that we already know x and y we want to optimize m and b such that the slope (line) fits the data best. This can be established by calculating the cost function and optimizing it.\n",
        " \n",
        " The cost function is represented by the `mean squared error` which calculates the distance between each point `(xi, yi)` to the slope. Usually the L2 distance is used, and we square the values such that we do not end up with values (positive and negative) that cancel each other (thus, by squaring, we assure we have only positive values).\n",
        " \n",
        " Further more, to optimize at each iteration, we use Gradient Descent, which calculates the gradients (derivatives) of the cost function plot, giving us the direction towards the global minima, thus optimizing the slope towards the best fitting line, given our data.\n"
      ]
    },
    {
      "metadata": {
        "id": "n8uhWvu1GLj8",
        "colab_type": "text"
      },
      "cell_type": "markdown",
      "source": [
        "![alt text](https://cdn-images-1.medium.com/max/1600/1*eeIvlwkMNG1wSmj3FR6M2g.gif)"
      ]
    },
    {
      "metadata": {
        "id": "zA4YKdRWKsxE",
        "colab_type": "text"
      },
      "cell_type": "markdown",
      "source": [
        "# Logistic regression"
      ]
    },
    {
      "metadata": {
        "id": "H2fbJEX6K6Gm",
        "colab_type": "text"
      },
      "cell_type": "markdown",
      "source": [
        "Logistic Regression usese all the steps as before, only that uses "
      ]
    },
    {
      "metadata": {
        "id": "vq5PbKE6KvC7",
        "colab_type": "text"
      },
      "cell_type": "markdown",
      "source": [
        "![alt text](https://cdn-images-1.medium.com/max/1200/1*Ubge8qVlc4Xk58H1oMp4Zw.jpeg)"
      ]
    },
    {
      "metadata": {
        "id": "kQksk20EKwWw",
        "colab_type": "text"
      },
      "cell_type": "markdown",
      "source": [
        ""
      ]
    },
    {
      "metadata": {
        "id": "BXrPnDYOHUM3",
        "colab_type": "text"
      },
      "cell_type": "markdown",
      "source": [
        "Going more into linear regression theory: https://newonlinecourses.science.psu.edu/stat501/node/250/\n"
      ]
    },
    {
      "metadata": {
        "id": "xyCbLU7e41HX",
        "colab_type": "text"
      },
      "cell_type": "markdown",
      "source": [
        "# Scikit learn"
      ]
    },
    {
      "metadata": {
        "id": "CETsdkbu5-mJ",
        "colab_type": "text"
      },
      "cell_type": "markdown",
      "source": [
        "The sklearn library is installed by default in Google Colab.\n",
        "\n",
        "If you are using another environment, to install sklearn run the following:\n",
        "\n",
        "\n",
        "`pip install scikit-learn`"
      ]
    },
    {
      "metadata": {
        "id": "6l0zApbL5Ycv",
        "colab_type": "text"
      },
      "cell_type": "markdown",
      "source": [
        "## Datasets"
      ]
    },
    {
      "metadata": {
        "id": "8mG0qX1b48CL",
        "colab_type": "text"
      },
      "cell_type": "markdown",
      "source": [
        "Scikit-learn, also known as `sklearn` has a module for dummy datasets to practice with."
      ]
    },
    {
      "metadata": {
        "id": "1pu7kw3z5GAC",
        "colab_type": "code",
        "colab": {}
      },
      "cell_type": "code",
      "source": [
        "# Lets import the `datasets` module from sklearn\n",
        "from sklearn import datasets"
      ],
      "execution_count": 0,
      "outputs": []
    },
    {
      "metadata": {
        "id": "e9UpGeZd5AYR",
        "colab_type": "code",
        "colab": {}
      },
      "cell_type": "code",
      "source": [
        "# Here are some examples of datasets which are included in this module\n",
        "iris = datasets.load_iris()\n",
        "digits = datasets.load_digits()"
      ],
      "execution_count": 0,
      "outputs": []
    },
    {
      "metadata": {
        "id": "o53hcqHU5EVh",
        "colab_type": "code",
        "colab": {}
      },
      "cell_type": "code",
      "source": [
        "# You can visualize the detailed information of each dataset by accesing the `DESCR` property\n",
        "print(iris.DESCR)"
      ],
      "execution_count": 0,
      "outputs": []
    },
    {
      "metadata": {
        "id": "tALo7rd060-H",
        "colab_type": "text"
      },
      "cell_type": "markdown",
      "source": [
        "## Learning and predicting"
      ]
    },
    {
      "metadata": {
        "id": "Gt0o-KTG62Es",
        "colab_type": "code",
        "outputId": "ad6665ff-c83b-4043-f485-ac9386e5c44b",
        "colab": {
          "base_uri": "https://localhost:8080/",
          "height": 364
        }
      },
      "cell_type": "code",
      "source": [
        "# Let's import amtplotlib\n",
        "from matplotlib import pyplot as plt\n",
        "\n",
        "# Let's create a dummy DataSet\n",
        "train_data_x = [[0], [1], [2], [5], [11], [6]]\n",
        "train_data_y = [0, 1, 2, 5, 11, 6]\n",
        "\n",
        "# It is easy to plot this DataSet as we have only 1 dimension for the labels\n",
        "# and we are predicting 1 single value\n",
        "plt.scatter(train_data_x, train_data_y)"
      ],
      "execution_count": 0,
      "outputs": [
        {
          "output_type": "execute_result",
          "data": {
            "text/plain": [
              "<matplotlib.collections.PathCollection at 0x7f2a17fa69e8>"
            ]
          },
          "metadata": {
            "tags": []
          },
          "execution_count": 20
        },
        {
          "output_type": "display_data",
          "data": {
            "image/png": "[encoded data removed]",
            "text/plain": [
              "<Figure size 576x396 with 1 Axes>"
            ]
          },
          "metadata": {
            "tags": []
          }
        }
      ]
    },
    {
      "metadata": {
        "id": "fJbNF4tQ7SFr",
        "colab_type": "code",
        "outputId": "8902ebb4-c7bd-48fd-b4f4-3b4cb6e6e91f",
        "colab": {
          "base_uri": "https://localhost:8080/",
          "height": 34
        }
      },
      "cell_type": "code",
      "source": [
        "# Load the Linear Model from sklearn\n",
        "from sklearn import linear_model\n",
        "\n",
        "# Create a new LinearRegression Object\n",
        "reg = linear_model.LinearRegression()\n",
        "\n",
        "# Let's fit a model on the dummy data we just created\n",
        "model = reg.fit(train_data_x, train_data_y)\n",
        "\n",
        "# Predict a new entry\n",
        "output = model.predict([[3], [222]])\n",
        "\n",
        "# Let's visualize the output\n",
        "print(output)"
      ],
      "execution_count": 0,
      "outputs": [
        {
          "output_type": "stream",
          "text": [
            "[  3. 222.]\n"
          ],
          "name": "stdout"
        }
      ]
    },
    {
      "metadata": {
        "id": "jrpKuf7n_pIm",
        "colab_type": "text"
      },
      "cell_type": "markdown",
      "source": [
        "## What can Scikit Learn do"
      ]
    },
    {
      "metadata": {
        "id": "Jfwihm0SCysR",
        "colab_type": "text"
      },
      "cell_type": "markdown",
      "source": [
        "![alt text](https://scikit-learn.org/stable/_static/ml_map.png)"
      ]
    },
    {
      "metadata": {
        "id": "0rBJv1PKJHPf",
        "colab_type": "text"
      },
      "cell_type": "markdown",
      "source": [
        "# Example"
      ]
    },
    {
      "metadata": {
        "id": "e3oJreyY_ocd",
        "colab_type": "code",
        "colab": {}
      },
      "cell_type": "code",
      "source": [
        "import numpy as np\n",
        "import pandas as pd\n",
        "import seaborn as sns\n",
        "import matplotlib.pyplot as plt\n",
        "\n",
        "from sklearn import metrics\n",
        "from sklearn.neighbors import KNeighborsClassifier\n",
        "from sklearn.linear_model import LogisticRegression\n",
        "from sklearn.model_selection import train_test_split"
      ],
      "execution_count": 0,
      "outputs": []
    },
    {
      "metadata": {
        "id": "4fMV8homTnsB",
        "colab_type": "code",
        "colab": {}
      },
      "cell_type": "code",
      "source": [
        "from sklearn import datasets\n",
        "iris = datasets.load_iris()"
      ],
      "execution_count": 0,
      "outputs": []
    },
    {
      "metadata": {
        "id": "NmSzFAQnUehC",
        "colab_type": "code",
        "colab": {}
      },
      "cell_type": "code",
      "source": [
        "print(iris.DESCR)"
      ],
      "execution_count": 0,
      "outputs": []
    },
    {
      "metadata": {
        "id": "wW7HiMXVTsbr",
        "colab_type": "code",
        "colab": {}
      },
      "cell_type": "code",
      "source": [
        "data = pd.DataFrame(data= np.c_[iris['data'], iris['target']],\n",
        "                    columns= iris['feature_names'] + ['target'])"
      ],
      "execution_count": 0,
      "outputs": []
    },
    {
      "metadata": {
        "id": "NLGur05NT8__",
        "colab_type": "code",
        "outputId": "ef048b9e-4e89-4ab4-db56-ff02ac9d6868",
        "colab": {
          "base_uri": "https://localhost:8080/",
          "height": 195
        }
      },
      "cell_type": "code",
      "source": [
        "data.head()"
      ],
      "execution_count": 0,
      "outputs": [
        {
          "output_type": "execute_result",
          "data": {
            "text/html": [
              "<div>\n",
              "<style scoped>\n",
              "    .dataframe tbody tr th:only-of-type {\n",
              "        vertical-align: middle;\n",
              "    }\n",
              "\n",
              "    .dataframe tbody tr th {\n",
              "        vertical-align: top;\n",
              "    }\n",
              "\n",
              "    .dataframe thead th {\n",
              "        text-align: right;\n",
              "    }\n",
              "</style>\n",
              "<table border=\"1\" class=\"dataframe\">\n",
              "  <thead>\n",
              "    <tr style=\"text-align: right;\">\n",
              "      <th></th>\n",
              "      <th>sepal length (cm)</th>\n",
              "      <th>sepal width (cm)</th>\n",
              "      <th>petal length (cm)</th>\n",
              "      <th>petal width (cm)</th>\n",
              "      <th>target</th>\n",
              "    </tr>\n",
              "  </thead>\n",
              "  <tbody>\n",
              "    <tr>\n",
              "      <th>0</th>\n",
              "      <td>5.1</td>\n",
              "      <td>3.5</td>\n",
              "      <td>1.4</td>\n",
              "      <td>0.2</td>\n",
              "      <td>0.0</td>\n",
              "    </tr>\n",
              "    <tr>\n",
              "      <th>1</th>\n",
              "      <td>4.9</td>\n",
              "      <td>3.0</td>\n",
              "      <td>1.4</td>\n",
              "      <td>0.2</td>\n",
              "      <td>0.0</td>\n",
              "    </tr>\n",
              "    <tr>\n",
              "      <th>2</th>\n",
              "      <td>4.7</td>\n",
              "      <td>3.2</td>\n",
              "      <td>1.3</td>\n",
              "      <td>0.2</td>\n",
              "      <td>0.0</td>\n",
              "    </tr>\n",
              "    <tr>\n",
              "      <th>3</th>\n",
              "      <td>4.6</td>\n",
              "      <td>3.1</td>\n",
              "      <td>1.5</td>\n",
              "      <td>0.2</td>\n",
              "      <td>0.0</td>\n",
              "    </tr>\n",
              "    <tr>\n",
              "      <th>4</th>\n",
              "      <td>5.0</td>\n",
              "      <td>3.6</td>\n",
              "      <td>1.4</td>\n",
              "      <td>0.2</td>\n",
              "      <td>0.0</td>\n",
              "    </tr>\n",
              "  </tbody>\n",
              "</table>\n",
              "</div>"
            ],
            "text/plain": [
              "   sepal length (cm)  sepal width (cm)  petal length (cm)  petal width (cm)  \\\n",
              "0                5.1               3.5                1.4               0.2   \n",
              "1                4.9               3.0                1.4               0.2   \n",
              "2                4.7               3.2                1.3               0.2   \n",
              "3                4.6               3.1                1.5               0.2   \n",
              "4                5.0               3.6                1.4               0.2   \n",
              "\n",
              "   target  \n",
              "0     0.0  \n",
              "1     0.0  \n",
              "2     0.0  \n",
              "3     0.0  \n",
              "4     0.0  "
            ]
          },
          "metadata": {
            "tags": []
          },
          "execution_count": 28
        }
      ]
    },
    {
      "metadata": {
        "id": "zSFL-wDBT_WY",
        "colab_type": "code",
        "outputId": "b9cb3237-bad7-43bd-8c34-379bc5343be4",
        "colab": {
          "base_uri": "https://localhost:8080/",
          "height": 185
        }
      },
      "cell_type": "code",
      "source": [
        "data.info()"
      ],
      "execution_count": 0,
      "outputs": [
        {
          "output_type": "stream",
          "text": [
            "<class 'pandas.core.frame.DataFrame'>\n",
            "RangeIndex: 150 entries, 0 to 149\n",
            "Data columns (total 5 columns):\n",
            "sepal length (cm)    150 non-null float64\n",
            "sepal width (cm)     150 non-null float64\n",
            "petal length (cm)    150 non-null float64\n",
            "petal width (cm)     150 non-null float64\n",
            "target               150 non-null float64\n",
            "dtypes: float64(5)\n",
            "memory usage: 5.9 KB\n"
          ],
          "name": "stdout"
        }
      ]
    },
    {
      "metadata": {
        "id": "fxEe74YaUREr",
        "colab_type": "code",
        "outputId": "6c2e6706-5a62-46dd-8374-3d5cef831f76",
        "colab": {
          "base_uri": "https://localhost:8080/",
          "height": 284
        }
      },
      "cell_type": "code",
      "source": [
        "data.describe()"
      ],
      "execution_count": 0,
      "outputs": [
        {
          "output_type": "execute_result",
          "data": {
            "text/html": [
              "<div>\n",
              "<style scoped>\n",
              "    .dataframe tbody tr th:only-of-type {\n",
              "        vertical-align: middle;\n",
              "    }\n",
              "\n",
              "    .dataframe tbody tr th {\n",
              "        vertical-align: top;\n",
              "    }\n",
              "\n",
              "    .dataframe thead th {\n",
              "        text-align: right;\n",
              "    }\n",
              "</style>\n",
              "<table border=\"1\" class=\"dataframe\">\n",
              "  <thead>\n",
              "    <tr style=\"text-align: right;\">\n",
              "      <th></th>\n",
              "      <th>sepal length (cm)</th>\n",
              "      <th>sepal width (cm)</th>\n",
              "      <th>petal length (cm)</th>\n",
              "      <th>petal width (cm)</th>\n",
              "      <th>target</th>\n",
              "    </tr>\n",
              "  </thead>\n",
              "  <tbody>\n",
              "    <tr>\n",
              "      <th>count</th>\n",
              "      <td>150.000000</td>\n",
              "      <td>150.000000</td>\n",
              "      <td>150.000000</td>\n",
              "      <td>150.000000</td>\n",
              "      <td>150.000000</td>\n",
              "    </tr>\n",
              "    <tr>\n",
              "      <th>mean</th>\n",
              "      <td>5.843333</td>\n",
              "      <td>3.057333</td>\n",
              "      <td>3.758000</td>\n",
              "      <td>1.199333</td>\n",
              "      <td>1.000000</td>\n",
              "    </tr>\n",
              "    <tr>\n",
              "      <th>std</th>\n",
              "      <td>0.828066</td>\n",
              "      <td>0.435866</td>\n",
              "      <td>1.765298</td>\n",
              "      <td>0.762238</td>\n",
              "      <td>0.819232</td>\n",
              "    </tr>\n",
              "    <tr>\n",
              "      <th>min</th>\n",
              "      <td>4.300000</td>\n",
              "      <td>2.000000</td>\n",
              "      <td>1.000000</td>\n",
              "      <td>0.100000</td>\n",
              "      <td>0.000000</td>\n",
              "    </tr>\n",
              "    <tr>\n",
              "      <th>25%</th>\n",
              "      <td>5.100000</td>\n",
              "      <td>2.800000</td>\n",
              "      <td>1.600000</td>\n",
              "      <td>0.300000</td>\n",
              "      <td>0.000000</td>\n",
              "    </tr>\n",
              "    <tr>\n",
              "      <th>50%</th>\n",
              "      <td>5.800000</td>\n",
              "      <td>3.000000</td>\n",
              "      <td>4.350000</td>\n",
              "      <td>1.300000</td>\n",
              "      <td>1.000000</td>\n",
              "    </tr>\n",
              "    <tr>\n",
              "      <th>75%</th>\n",
              "      <td>6.400000</td>\n",
              "      <td>3.300000</td>\n",
              "      <td>5.100000</td>\n",
              "      <td>1.800000</td>\n",
              "      <td>2.000000</td>\n",
              "    </tr>\n",
              "    <tr>\n",
              "      <th>max</th>\n",
              "      <td>7.900000</td>\n",
              "      <td>4.400000</td>\n",
              "      <td>6.900000</td>\n",
              "      <td>2.500000</td>\n",
              "      <td>2.000000</td>\n",
              "    </tr>\n",
              "  </tbody>\n",
              "</table>\n",
              "</div>"
            ],
            "text/plain": [
              "       sepal length (cm)  sepal width (cm)  petal length (cm)  \\\n",
              "count         150.000000        150.000000         150.000000   \n",
              "mean            5.843333          3.057333           3.758000   \n",
              "std             0.828066          0.435866           1.765298   \n",
              "min             4.300000          2.000000           1.000000   \n",
              "25%             5.100000          2.800000           1.600000   \n",
              "50%             5.800000          3.000000           4.350000   \n",
              "75%             6.400000          3.300000           5.100000   \n",
              "max             7.900000          4.400000           6.900000   \n",
              "\n",
              "       petal width (cm)      target  \n",
              "count        150.000000  150.000000  \n",
              "mean           1.199333    1.000000  \n",
              "std            0.762238    0.819232  \n",
              "min            0.100000    0.000000  \n",
              "25%            0.300000    0.000000  \n",
              "50%            1.300000    1.000000  \n",
              "75%            1.800000    2.000000  \n",
              "max            2.500000    2.000000  "
            ]
          },
          "metadata": {
            "tags": []
          },
          "execution_count": 31
        }
      ]
    },
    {
      "metadata": {
        "id": "x6MFCc2HUXXs",
        "colab_type": "code",
        "outputId": "fafcdeaf-905d-4f58-ecce-eccd5498cfc9",
        "colab": {
          "base_uri": "https://localhost:8080/",
          "height": 84
        }
      },
      "cell_type": "code",
      "source": [
        "data['target'].value_counts()"
      ],
      "execution_count": 0,
      "outputs": [
        {
          "output_type": "execute_result",
          "data": {
            "text/plain": [
              "2.0    50\n",
              "1.0    50\n",
              "0.0    50\n",
              "Name: target, dtype: int64"
            ]
          },
          "metadata": {
            "tags": []
          },
          "execution_count": 33
        }
      ]
    },
    {
      "metadata": {
        "id": "Ecwl2pZBUxWe",
        "colab_type": "code",
        "outputId": "bb85eb15-26d7-4e3a-c941-d277ebcd5974",
        "colab": {
          "base_uri": "https://localhost:8080/",
          "height": 905
        }
      },
      "cell_type": "code",
      "source": [
        "g = sns.pairplot(data, hue='target', markers='+')"
      ],
      "execution_count": 0,
      "outputs": [
        {
          "output_type": "display_data",
          "data": {
            "image/png": "[encoded data removed]",
            "text/plain": [
              "<Figure size 950x900 with 30 Axes>"
            ]
          },
          "metadata": {
            "tags": []
          }
        }
      ]
    },
    {
      "metadata": {
        "id": "d5IcRO11U7it",
        "colab_type": "code",
        "colab": {}
      },
      "cell_type": "code",
      "source": [
        "X = data.drop(['target'], axis=1)\n",
        "y = data['target']"
      ],
      "execution_count": 0,
      "outputs": []
    },
    {
      "metadata": {
        "id": "dMJBLHINVCbg",
        "colab_type": "code",
        "outputId": "b3825c12-74e1-4106-ae62-0cac5739ef95",
        "colab": {
          "base_uri": "https://localhost:8080/",
          "height": 34
        }
      },
      "cell_type": "code",
      "source": [
        "print(X.shape)"
      ],
      "execution_count": 0,
      "outputs": [
        {
          "output_type": "stream",
          "text": [
            "(150, 4)\n"
          ],
          "name": "stdout"
        }
      ]
    },
    {
      "metadata": {
        "id": "MHlQbCWVVEe3",
        "colab_type": "code",
        "outputId": "e0d36140-d357-44c0-df03-4a062e06313e",
        "colab": {
          "base_uri": "https://localhost:8080/",
          "height": 34
        }
      },
      "cell_type": "code",
      "source": [
        "print(y.shape)"
      ],
      "execution_count": 0,
      "outputs": [
        {
          "output_type": "stream",
          "text": [
            "(150,)\n"
          ],
          "name": "stdout"
        }
      ]
    },
    {
      "metadata": {
        "id": "eYt8zkdAVFv6",
        "colab_type": "code",
        "outputId": "1ce0f6e2-8ff8-4e47-bf76-5a1ed4873c20",
        "colab": {
          "base_uri": "https://localhost:8080/",
          "height": 154
        }
      },
      "cell_type": "code",
      "source": [
        "logreg = LogisticRegression()\n",
        "logreg.fit(X, y)\n",
        "y_pred = logreg.predict(X)\n",
        "print(metrics.accuracy_score(y, y_pred))"
      ],
      "execution_count": 0,
      "outputs": [
        {
          "output_type": "stream",
          "text": [
            "0.6666666666666666\n"
          ],
          "name": "stdout"
        },
        {
          "output_type": "stream",
          "text": [
            "/usr/local/lib/python3.6/dist-packages/sklearn/linear_model/logistic.py:433: FutureWarning: Default solver will be changed to 'lbfgs' in 0.22. Specify a solver to silence this warning.\n",
            "  FutureWarning)\n",
            "/usr/local/lib/python3.6/dist-packages/sklearn/linear_model/logistic.py:460: FutureWarning: Default multi_class will be changed to 'auto' in 0.22. Specify the multi_class option to silence this warning.\n",
            "  \"this warning.\", FutureWarning)\n",
            "/usr/local/lib/python3.6/dist-packages/sklearn/svm/base.py:931: ConvergenceWarning: Liblinear failed to converge, increase the number of iterations.\n",
            "  \"the number of iterations.\", ConvergenceWarning)\n"
          ],
          "name": "stderr"
        }
      ]
    },
    {
      "metadata": {
        "id": "K2AX8L0RXWAY",
        "colab_type": "code",
        "outputId": "084fb8a9-ff4b-47ea-88b7-5e816bfe0270",
        "colab": {
          "base_uri": "https://localhost:8080/",
          "height": 252
        }
      },
      "cell_type": "code",
      "source": [
        "logreg.get_params()"
      ],
      "execution_count": 0,
      "outputs": [
        {
          "output_type": "execute_result",
          "data": {
            "text/plain": [
              "{'C': 1.0,\n",
              " 'class_weight': None,\n",
              " 'dual': False,\n",
              " 'fit_intercept': True,\n",
              " 'intercept_scaling': 1,\n",
              " 'max_iter': 1,\n",
              " 'multi_class': 'warn',\n",
              " 'n_jobs': None,\n",
              " 'penalty': 'l2',\n",
              " 'random_state': None,\n",
              " 'solver': 'warn',\n",
              " 'tol': 0.0001,\n",
              " 'verbose': 0,\n",
              " 'warm_start': False}"
            ]
          },
          "metadata": {
            "tags": []
          },
          "execution_count": 51
        }
      ]
    },
    {
      "metadata": {
        "id": "HvLRMxdMVT6R",
        "colab_type": "code",
        "colab": {}
      },
      "cell_type": "code",
      "source": [
        ""
      ],
      "execution_count": 0,
      "outputs": []
    }
  ]
}